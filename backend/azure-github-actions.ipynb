{
 "cells": [
  {
   "cell_type": "markdown",
   "metadata": {},
   "source": [
    "## This example shows how to set up a Microservices Monorepo in GitHub\n",
    "\n",
    "- The Monorepo contains two Node.js microservices using the Express Web Server packaged in Docker Images:\n",
    "- - `video-streaming` that communicates with a Web Browser and the `video-storage` microservice.\n",
    "  - `video-storage` that communicates with the `video-streaming` microservice and an Azure Storage Container.\n",
    "- The `video-streaming` microservice has its own GitHub Actions Workflow in the Monorepo:\n",
    "  - The microservice's GitHub Actions Workflow is only triggered on pushes to the microservices subfolder in the Monorepo, and.\n",
    "    - Runs Jest unit tests.\n",
    "    - Builds a Docker Container containing the microservice.\n",
    "    - Pushes the Docker Container to an Azure COntainer Registry.\n",
    "    - Deploys a Kubernetes YAML manifest file containing a Deployment and a LoadBalancer Service.\n",
    "- The `video-storage` microservice has its own GitHub Actions Workflow in the Monorepo:\n",
    "  - The microservice's GitHub Actions Workflow is only triggered on pushes to the microservices subfolder in the Monorepo, and.\n",
    "    - Runs Jest unit tests.\n",
    "    - Builds a Docker Container containing the microservice.\n",
    "    - Pushes the Docker Container to an Azure COntainer Registry.\n",
    "    - Deploys a Kubernetes YAML manifest file containing a Deployment and a ClusterIP Service.\n",
    "- The deployed microservice application works as follows:\n",
    "  - The URL `http://EXTERNAL-IP/video?id=SampleVideo_1280x720_1mb.mp4` is entered into a web browser.\n",
    "    - The browser sends an HTTP GET request to the `video-streaming` microservice's GET route for the `/video` path.\n",
    "    - The `video-streaming` microservice:\n",
    "      - Extracts the `id` from the querystring.\n",
    "      - Sends an HTTP GET request to the `video-storage` microservice's GET route for the `/video` path with `id=SampleVideo_1280x720_1mb.mp4`.\n",
    "    - The `video-storage` microservice:\n",
    "      - Extracts the `id` from the querystring.\n",
    "      - Fetches the video from the Azure Storage Container `videos` by using the `id` to find the file.\n",
    "    - The video is:\n",
    "      - Streamed from the `video-storage` microservice to the `video-streaming` microservice.\n",
    "      - Streamed from the `video-streaming` microservice to the web browser.\n",
    "- Feel free to check the code for teh microservices:\n",
    "  - The code for the `video-storage` microservice is in the file `video-storage/src/index.js`.\n",
    "  - The code for the `video-streaming` microservice is in the file `video-streaming/src/index.js`."
   ]
  },
  {
   "cell_type": "markdown",
   "metadata": {},
   "source": [
    "## Login to GitHub via the CLI\n",
    "\n",
    "### Run the command below in a separate terminal and follow the instructions\n",
    "\n",
    "```bash\n",
    "gh auth login --hostname github.com --git-protocol https --web\n",
    "```"
   ]
  },
  {
   "cell_type": "markdown",
   "metadata": {},
   "source": [
    "## Authorize running the Delete Repository Command\n",
    "\n",
    "### Run the command below in a separate terminal and follow the instructions\n",
    "\n",
    "```bash\n",
    "gh auth refresh -h github.com -s delete_repo\n",
    "```"
   ]
  },
  {
   "cell_type": "markdown",
   "metadata": {},
   "source": [
    "## Change the Terraform variable `app_name`\n",
    "\n",
    "- Open the file `variables.tf` in the subfolder `terraform`, and give your Terraform variable `app_name` a unique value.\n",
    "\n",
    "  ```bash\n",
    "  variable \"app_name\" {\n",
    "    default = \"tsfn14g00\" # <--- change this value to something unique\n",
    "  }\n",
    "  ```"
   ]
  },
  {
   "cell_type": "markdown",
   "metadata": {},
   "source": [
    "## Create a GitHub Repository\n",
    "\n",
    "- These set of commands will:\n",
    "  - Create a subfolder `monorepo` and copy over:\n",
    "    - The `terraform` subfolder that contains Terraform `.tf` files for setting up resources in Azure:\n",
    "      - Resource Group, Storage Account, Storage Container, Container Registry, Azure Kubernetes Service, Network Watcher.\n",
    "    - The two subfolders for each microservice `video-storage` and `video-streaming`, where each contains:\n",
    "      - A `kubernetes` subfolder with a kubernetes YAML manifest file `deploy.yaml` for deploying a Deployment and a Service.\n",
    "      - A `src` subfolder with with the microservices code file `index.js` and a Jest test file `index.test.js`.\n",
    "      - A `.dockerignore` and `.gitignore` file for the microservice.\n",
    "      - A `Dockerfile` for the microservice.\n",
    "      - A Jest config file `jest.config.js`.\n",
    "      - A `package.json` and a `package-lock.json` file with information about the Node.js application and npm packages.\n",
    "    - The `workflows` subfolder the two microservices' GitHub Actions Workflow files `video-storage.yaml` and `video-streaming.yaml`.\n",
    "    - A `.gitignore` file for the Terraform files.\n",
    "    - A `LICENSE` file.\n",
    "    - A `README.md` file.\n",
    "  - Run `git init`, `git all -A` and `git commit` in the `monorepo` subfolder.\n",
    "  - Use the GitHub CLI tool `gh` to create a new GitHub Repository on your GitHub account from the `monorepo` subfolder.\n",
    "- Check your GitHub account after running this cell, and you will find a new Repository called `monorepo`."
   ]
  },
  {
   "cell_type": "markdown",
   "metadata": {},
   "source": [
    "#### Run this on Linux/macOS"
   ]
  },
  {
   "cell_type": "code",
   "execution_count": 1,
   "metadata": {
    "vscode": {
     "languageId": "shellscript"
    }
   },
   "outputs": [
    {
     "data": {
      "text/plain": [
       "['Initialized empty Git repository in /home/patrick/projects/tsfn14/tsfn14/04_Azure_and_Github_Actions/monorepo/.git/',\n",
       " 'https://github.com/paga-ju/monorepo',\n",
       " 'To https://github.com/paga-ju/monorepo.git',\n",
       " ' * [new branch]      HEAD -> master',\n",
       " \"Branch 'master' set up to track remote branch 'master' from 'origin'.\"]"
      ]
     },
     "execution_count": 1,
     "metadata": {},
     "output_type": "execute_result"
    }
   ],
   "source": [
    "%%system\n",
    "\n",
    "mkdir -p monorepo/.github\n",
    "cp -r terraform video-storage video-streaming LICENSE README.md .gitignore monorepo\n",
    "cp -r workflows monorepo/.github\n",
    "cd monorepo\n",
    "\n",
    "git init\n",
    "git add -A\n",
    "git commit --quiet -m \"initial commit\"\n",
    "\n",
    "gh repo create monorepo \\\n",
    "--public \\\n",
    "--description \"Microservices Monorepo\" \\\n",
    "--source=. \\\n",
    "--remote=origin \\\n",
    "--push\n",
    "\n",
    "cd .."
   ]
  },
  {
   "cell_type": "markdown",
   "metadata": {},
   "source": [
    "#### Run this on Windows"
   ]
  },
  {
   "cell_type": "code",
   "execution_count": 1,
   "metadata": {
    "vscode": {
     "languageId": "shellscript"
    }
   },
   "outputs": [
    {
     "data": {
      "text/plain": [
       "['Initialized empty Git repository in /home/patrick/projects/tsfn14/tsfn14/04_Azure_and_Github_Actions/monorepo/.git/',\n",
       " 'https://github.com/paga-ju/monorepo',\n",
       " 'To https://github.com/paga-ju/monorepo.git',\n",
       " ' * [new branch]      HEAD -> master',\n",
       " \"Branch 'master' set up to track remote branch 'master' from 'origin'.\"]"
      ]
     },
     "execution_count": 1,
     "metadata": {},
     "output_type": "execute_result"
    }
   ],
   "source": [
    "%%system\n",
    "\n",
    "mkdir -p monorepo\\.github\n",
    "xcopy terraform monorepo\\ /E/H\n",
    "xcopy video-storage monorepo\\ /E/H\n",
    "xcopy video-streaming monorepo\\ /E/H\n",
    "xcopy LICENSE monorepo\\\n",
    "xcopy README.md monorepo\\\n",
    "xcopy .gitignore monorepo\\\n",
    "\n",
    "cd monorepo\n",
    "\n",
    "git init\n",
    "git add -A\n",
    "git commit --quiet -m \"initial commit\"\n",
    "\n",
    "gh repo create monorepo ^\n",
    "--public ^\n",
    "--description \"Microservices Monorepo\" ^\n",
    "--source=. ^\n",
    "--remote=origin ^\n",
    "--push\n",
    "\n",
    "cd .."
   ]
  },
  {
   "cell_type": "markdown",
   "metadata": {},
   "source": [
    "## Terraform Init and Terraform Apply\n",
    "\n",
    "- Create the Azure infrastructure from the `terraform` folder inte `monorepo` subfolder."
   ]
  },
  {
   "cell_type": "code",
   "execution_count": 2,
   "metadata": {
    "vscode": {
     "languageId": "shellscript"
    }
   },
   "outputs": [
    {
     "data": {
      "text/plain": [
       "['',\n",
       " '\\x1b[0m\\x1b[1mInitializing the backend...\\x1b[0m',\n",
       " '',\n",
       " '\\x1b[0m\\x1b[1mInitializing provider plugins...\\x1b[0m',\n",
       " '- Finding hashicorp/azurerm versions matching \"3.90.0\"...',\n",
       " '- Installing hashicorp/azurerm v3.90.0...',\n",
       " '- Installed hashicorp/azurerm v3.90.0 (signed by HashiCorp)',\n",
       " '',\n",
       " 'Terraform has created a lock file \\x1b[1m.terraform.lock.hcl\\x1b[0m to record the provider',\n",
       " 'selections it made above. Include this file in your version control repository',\n",
       " 'so that Terraform can guarantee to make the same selections by default when',\n",
       " 'you run \"terraform init\" in the future.\\x1b[0m',\n",
       " '',\n",
       " '\\x1b[0m\\x1b[1m\\x1b[32mTerraform has been successfully initialized!\\x1b[0m\\x1b[32m\\x1b[0m',\n",
       " '\\x1b[0m\\x1b[32m',\n",
       " 'You may now begin working with Terraform. Try running \"terraform plan\" to see',\n",
       " 'any changes that are required for your infrastructure. All Terraform commands',\n",
       " 'should now work.',\n",
       " '',\n",
       " 'If you ever set or change modules or backend configuration for Terraform,',\n",
       " 'rerun this command to reinitialize your working directory. If you forget, other',\n",
       " 'commands will detect it and remind you to do so if necessary.\\x1b[0m',\n",
       " '',\n",
       " 'Terraform used the selected providers to generate the following execution',\n",
       " 'plan. Resource actions are indicated with the following symbols:',\n",
       " '  \\x1b[32m+\\x1b[0m create\\x1b[0m',\n",
       " '',\n",
       " 'Terraform will perform the following actions:',\n",
       " '',\n",
       " '\\x1b[1m  # azurerm_container_registry.main\\x1b[0m will be created',\n",
       " '\\x1b[0m  \\x1b[32m+\\x1b[0m\\x1b[0m resource \"azurerm_container_registry\" \"main\" {',\n",
       " '      \\x1b[32m+\\x1b[0m\\x1b[0m admin_enabled                 = true',\n",
       " '      \\x1b[32m+\\x1b[0m\\x1b[0m admin_password                = (sensitive value)',\n",
       " '      \\x1b[32m+\\x1b[0m\\x1b[0m admin_username                = (known after apply)',\n",
       " '      \\x1b[32m+\\x1b[0m\\x1b[0m encryption                    = (known after apply)',\n",
       " '      \\x1b[32m+\\x1b[0m\\x1b[0m export_policy_enabled         = true',\n",
       " '      \\x1b[32m+\\x1b[0m\\x1b[0m id                            = (known after apply)',\n",
       " '      \\x1b[32m+\\x1b[0m\\x1b[0m location                      = \"westeurope\"',\n",
       " '      \\x1b[32m+\\x1b[0m\\x1b[0m login_server                  = (known after apply)',\n",
       " '      \\x1b[32m+\\x1b[0m\\x1b[0m name                          = \"tsfn14g00\"',\n",
       " '      \\x1b[32m+\\x1b[0m\\x1b[0m network_rule_bypass_option    = \"AzureServices\"',\n",
       " '      \\x1b[32m+\\x1b[0m\\x1b[0m network_rule_set              = (known after apply)',\n",
       " '      \\x1b[32m+\\x1b[0m\\x1b[0m public_network_access_enabled = true',\n",
       " '      \\x1b[32m+\\x1b[0m\\x1b[0m resource_group_name           = \"tsfn14g00\"',\n",
       " '      \\x1b[32m+\\x1b[0m\\x1b[0m retention_policy              = (known after apply)',\n",
       " '      \\x1b[32m+\\x1b[0m\\x1b[0m sku                           = \"Basic\"',\n",
       " '      \\x1b[32m+\\x1b[0m\\x1b[0m trust_policy                  = (known after apply)',\n",
       " '      \\x1b[32m+\\x1b[0m\\x1b[0m zone_redundancy_enabled       = false',\n",
       " '    }',\n",
       " '',\n",
       " '\\x1b[1m  # azurerm_kubernetes_cluster.main\\x1b[0m will be created',\n",
       " '\\x1b[0m  \\x1b[32m+\\x1b[0m\\x1b[0m resource \"azurerm_kubernetes_cluster\" \"main\" {',\n",
       " '      \\x1b[32m+\\x1b[0m\\x1b[0m api_server_authorized_ip_ranges     = (known after apply)',\n",
       " '      \\x1b[32m+\\x1b[0m\\x1b[0m dns_prefix                          = \"tsfn14g00\"',\n",
       " '      \\x1b[32m+\\x1b[0m\\x1b[0m fqdn                                = (known after apply)',\n",
       " '      \\x1b[32m+\\x1b[0m\\x1b[0m http_application_routing_zone_name  = (known after apply)',\n",
       " '      \\x1b[32m+\\x1b[0m\\x1b[0m id                                  = (known after apply)',\n",
       " '      \\x1b[32m+\\x1b[0m\\x1b[0m image_cleaner_enabled               = false',\n",
       " '      \\x1b[32m+\\x1b[0m\\x1b[0m image_cleaner_interval_hours        = 48',\n",
       " '      \\x1b[32m+\\x1b[0m\\x1b[0m kube_admin_config                   = (sensitive value)',\n",
       " '      \\x1b[32m+\\x1b[0m\\x1b[0m kube_admin_config_raw               = (sensitive value)',\n",
       " '      \\x1b[32m+\\x1b[0m\\x1b[0m kube_config                         = (sensitive value)',\n",
       " '      \\x1b[32m+\\x1b[0m\\x1b[0m kube_config_raw                     = (sensitive value)',\n",
       " '      \\x1b[32m+\\x1b[0m\\x1b[0m kubernetes_version                  = \"1.27.7\"',\n",
       " '      \\x1b[32m+\\x1b[0m\\x1b[0m location                            = \"westeurope\"',\n",
       " '      \\x1b[32m+\\x1b[0m\\x1b[0m name                                = \"tsfn14g00\"',\n",
       " '      \\x1b[32m+\\x1b[0m\\x1b[0m node_resource_group                 = (known after apply)',\n",
       " '      \\x1b[32m+\\x1b[0m\\x1b[0m node_resource_group_id              = (known after apply)',\n",
       " '      \\x1b[32m+\\x1b[0m\\x1b[0m oidc_issuer_url                     = (known after apply)',\n",
       " '      \\x1b[32m+\\x1b[0m\\x1b[0m portal_fqdn                         = (known after apply)',\n",
       " '      \\x1b[32m+\\x1b[0m\\x1b[0m private_cluster_enabled             = false',\n",
       " '      \\x1b[32m+\\x1b[0m\\x1b[0m private_cluster_public_fqdn_enabled = false',\n",
       " '      \\x1b[32m+\\x1b[0m\\x1b[0m private_dns_zone_id                 = (known after apply)',\n",
       " '      \\x1b[32m+\\x1b[0m\\x1b[0m private_fqdn                        = (known after apply)',\n",
       " '      \\x1b[32m+\\x1b[0m\\x1b[0m public_network_access_enabled       = true',\n",
       " '      \\x1b[32m+\\x1b[0m\\x1b[0m resource_group_name                 = \"tsfn14g00\"',\n",
       " '      \\x1b[32m+\\x1b[0m\\x1b[0m role_based_access_control_enabled   = true',\n",
       " '      \\x1b[32m+\\x1b[0m\\x1b[0m run_command_enabled                 = true',\n",
       " '      \\x1b[32m+\\x1b[0m\\x1b[0m sku_tier                            = \"Free\"',\n",
       " '      \\x1b[32m+\\x1b[0m\\x1b[0m support_plan                        = \"KubernetesOfficial\"',\n",
       " '      \\x1b[32m+\\x1b[0m\\x1b[0m workload_identity_enabled           = false',\n",
       " '',\n",
       " '      \\x1b[32m+\\x1b[0m\\x1b[0m default_node_pool {',\n",
       " '          \\x1b[32m+\\x1b[0m\\x1b[0m kubelet_disk_type    = (known after apply)',\n",
       " '          \\x1b[32m+\\x1b[0m\\x1b[0m max_pods             = (known after apply)',\n",
       " '          \\x1b[32m+\\x1b[0m\\x1b[0m name                 = \"default\"',\n",
       " '          \\x1b[32m+\\x1b[0m\\x1b[0m node_count           = 2',\n",
       " '          \\x1b[32m+\\x1b[0m\\x1b[0m node_labels          = (known after apply)',\n",
       " '          \\x1b[32m+\\x1b[0m\\x1b[0m orchestrator_version = (known after apply)',\n",
       " '          \\x1b[32m+\\x1b[0m\\x1b[0m os_disk_size_gb      = (known after apply)',\n",
       " '          \\x1b[32m+\\x1b[0m\\x1b[0m os_disk_type         = \"Managed\"',\n",
       " '          \\x1b[32m+\\x1b[0m\\x1b[0m os_sku               = (known after apply)',\n",
       " '          \\x1b[32m+\\x1b[0m\\x1b[0m scale_down_mode      = \"Delete\"',\n",
       " '          \\x1b[32m+\\x1b[0m\\x1b[0m type                 = \"VirtualMachineScaleSets\"',\n",
       " '          \\x1b[32m+\\x1b[0m\\x1b[0m ultra_ssd_enabled    = false',\n",
       " '          \\x1b[32m+\\x1b[0m\\x1b[0m vm_size              = \"Standard_B2s\"',\n",
       " '          \\x1b[32m+\\x1b[0m\\x1b[0m workload_runtime     = (known after apply)',\n",
       " '        }',\n",
       " '',\n",
       " '      \\x1b[32m+\\x1b[0m\\x1b[0m identity {',\n",
       " '          \\x1b[32m+\\x1b[0m\\x1b[0m principal_id = (known after apply)',\n",
       " '          \\x1b[32m+\\x1b[0m\\x1b[0m tenant_id    = (known after apply)',\n",
       " '          \\x1b[32m+\\x1b[0m\\x1b[0m type         = \"SystemAssigned\"',\n",
       " '        }',\n",
       " '    }',\n",
       " '',\n",
       " '\\x1b[1m  # azurerm_network_watcher.networkwatcher\\x1b[0m will be created',\n",
       " '\\x1b[0m  \\x1b[32m+\\x1b[0m\\x1b[0m resource \"azurerm_network_watcher\" \"networkwatcher\" {',\n",
       " '      \\x1b[32m+\\x1b[0m\\x1b[0m id                  = (known after apply)',\n",
       " '      \\x1b[32m+\\x1b[0m\\x1b[0m location            = \"westeurope\"',\n",
       " '      \\x1b[32m+\\x1b[0m\\x1b[0m name                = \"NetworkWatcher_westeurope\"',\n",
       " '      \\x1b[32m+\\x1b[0m\\x1b[0m resource_group_name = \"NetworkWatcherRG\"',\n",
       " '    }',\n",
       " '',\n",
       " '\\x1b[1m  # azurerm_resource_group.main\\x1b[0m will be created',\n",
       " '\\x1b[0m  \\x1b[32m+\\x1b[0m\\x1b[0m resource \"azurerm_resource_group\" \"main\" {',\n",
       " '      \\x1b[32m+\\x1b[0m\\x1b[0m id       = (known after apply)',\n",
       " '      \\x1b[32m+\\x1b[0m\\x1b[0m location = \"westeurope\"',\n",
       " '      \\x1b[32m+\\x1b[0m\\x1b[0m name     = \"tsfn14g00\"',\n",
       " '    }',\n",
       " '',\n",
       " '\\x1b[1m  # azurerm_resource_group.networkwatcher\\x1b[0m will be created',\n",
       " '\\x1b[0m  \\x1b[32m+\\x1b[0m\\x1b[0m resource \"azurerm_resource_group\" \"networkwatcher\" {',\n",
       " '      \\x1b[32m+\\x1b[0m\\x1b[0m id       = (known after apply)',\n",
       " '      \\x1b[32m+\\x1b[0m\\x1b[0m location = \"westeurope\"',\n",
       " '      \\x1b[32m+\\x1b[0m\\x1b[0m name     = \"NetworkWatcherRG\"',\n",
       " '    }',\n",
       " '',\n",
       " '\\x1b[1m  # azurerm_role_assignment.main\\x1b[0m will be created',\n",
       " '\\x1b[0m  \\x1b[32m+\\x1b[0m\\x1b[0m resource \"azurerm_role_assignment\" \"main\" {',\n",
       " '      \\x1b[32m+\\x1b[0m\\x1b[0m id                               = (known after apply)',\n",
       " '      \\x1b[32m+\\x1b[0m\\x1b[0m name                             = (known after apply)',\n",
       " '      \\x1b[32m+\\x1b[0m\\x1b[0m principal_id                     = (known after apply)',\n",
       " '      \\x1b[32m+\\x1b[0m\\x1b[0m principal_type                   = (known after apply)',\n",
       " '      \\x1b[32m+\\x1b[0m\\x1b[0m role_definition_id               = (known after apply)',\n",
       " '      \\x1b[32m+\\x1b[0m\\x1b[0m role_definition_name             = \"AcrPull\"',\n",
       " '      \\x1b[32m+\\x1b[0m\\x1b[0m scope                            = (known after apply)',\n",
       " '      \\x1b[32m+\\x1b[0m\\x1b[0m skip_service_principal_aad_check = true',\n",
       " '    }',\n",
       " '',\n",
       " '\\x1b[1m  # azurerm_storage_account.main\\x1b[0m will be created',\n",
       " '\\x1b[0m  \\x1b[32m+\\x1b[0m\\x1b[0m resource \"azurerm_storage_account\" \"main\" {',\n",
       " '      \\x1b[32m+\\x1b[0m\\x1b[0m access_tier                        = (known after apply)',\n",
       " '      \\x1b[32m+\\x1b[0m\\x1b[0m account_kind                       = \"StorageV2\"',\n",
       " '      \\x1b[32m+\\x1b[0m\\x1b[0m account_replication_type           = \"LRS\"',\n",
       " '      \\x1b[32m+\\x1b[0m\\x1b[0m account_tier                       = \"Standard\"',\n",
       " '      \\x1b[32m+\\x1b[0m\\x1b[0m allow_nested_items_to_be_public    = true',\n",
       " '      \\x1b[32m+\\x1b[0m\\x1b[0m cross_tenant_replication_enabled   = true',\n",
       " '      \\x1b[32m+\\x1b[0m\\x1b[0m default_to_oauth_authentication    = false',\n",
       " '      \\x1b[32m+\\x1b[0m\\x1b[0m enable_https_traffic_only          = true',\n",
       " '      \\x1b[32m+\\x1b[0m\\x1b[0m id                                 = (known after apply)',\n",
       " '      \\x1b[32m+\\x1b[0m\\x1b[0m infrastructure_encryption_enabled  = false',\n",
       " '      \\x1b[32m+\\x1b[0m\\x1b[0m is_hns_enabled                     = false',\n",
       " '      \\x1b[32m+\\x1b[0m\\x1b[0m large_file_share_enabled           = (known after apply)',\n",
       " '      \\x1b[32m+\\x1b[0m\\x1b[0m location                           = \"westeurope\"',\n",
       " '      \\x1b[32m+\\x1b[0m\\x1b[0m min_tls_version                    = \"TLS1_2\"',\n",
       " '      \\x1b[32m+\\x1b[0m\\x1b[0m name                               = \"tsfn14g00\"',\n",
       " '      \\x1b[32m+\\x1b[0m\\x1b[0m nfsv3_enabled                      = false',\n",
       " '      \\x1b[32m+\\x1b[0m\\x1b[0m primary_access_key                 = (sensitive value)',\n",
       " '      \\x1b[32m+\\x1b[0m\\x1b[0m primary_blob_connection_string     = (sensitive value)',\n",
       " '      \\x1b[32m+\\x1b[0m\\x1b[0m primary_blob_endpoint              = (known after apply)',\n",
       " '      \\x1b[32m+\\x1b[0m\\x1b[0m primary_blob_host                  = (known after apply)',\n",
       " '      \\x1b[32m+\\x1b[0m\\x1b[0m primary_blob_internet_endpoint     = (known after apply)',\n",
       " '      \\x1b[32m+\\x1b[0m\\x1b[0m primary_blob_internet_host         = (known after apply)',\n",
       " '      \\x1b[32m+\\x1b[0m\\x1b[0m primary_blob_microsoft_endpoint    = (known after apply)',\n",
       " '      \\x1b[32m+\\x1b[0m\\x1b[0m primary_blob_microsoft_host        = (known after apply)',\n",
       " '      \\x1b[32m+\\x1b[0m\\x1b[0m primary_connection_string          = (sensitive value)',\n",
       " '      \\x1b[32m+\\x1b[0m\\x1b[0m primary_dfs_endpoint               = (known after apply)',\n",
       " '      \\x1b[32m+\\x1b[0m\\x1b[0m primary_dfs_host                   = (known after apply)',\n",
       " '      \\x1b[32m+\\x1b[0m\\x1b[0m primary_dfs_internet_endpoint      = (known after apply)',\n",
       " '      \\x1b[32m+\\x1b[0m\\x1b[0m primary_dfs_internet_host          = (known after apply)',\n",
       " '      \\x1b[32m+\\x1b[0m\\x1b[0m primary_dfs_microsoft_endpoint     = (known after apply)',\n",
       " '      \\x1b[32m+\\x1b[0m\\x1b[0m primary_dfs_microsoft_host         = (known after apply)',\n",
       " '      \\x1b[32m+\\x1b[0m\\x1b[0m primary_file_endpoint              = (known after apply)',\n",
       " '      \\x1b[32m+\\x1b[0m\\x1b[0m primary_file_host                  = (known after apply)',\n",
       " '      \\x1b[32m+\\x1b[0m\\x1b[0m primary_file_internet_endpoint     = (known after apply)',\n",
       " '      \\x1b[32m+\\x1b[0m\\x1b[0m primary_file_internet_host         = (known after apply)',\n",
       " '      \\x1b[32m+\\x1b[0m\\x1b[0m primary_file_microsoft_endpoint    = (known after apply)',\n",
       " '      \\x1b[32m+\\x1b[0m\\x1b[0m primary_file_microsoft_host        = (known after apply)',\n",
       " '      \\x1b[32m+\\x1b[0m\\x1b[0m primary_location                   = (known after apply)',\n",
       " '      \\x1b[32m+\\x1b[0m\\x1b[0m primary_queue_endpoint             = (known after apply)',\n",
       " '      \\x1b[32m+\\x1b[0m\\x1b[0m primary_queue_host                 = (known after apply)',\n",
       " '      \\x1b[32m+\\x1b[0m\\x1b[0m primary_queue_microsoft_endpoint   = (known after apply)',\n",
       " '      \\x1b[32m+\\x1b[0m\\x1b[0m primary_queue_microsoft_host       = (known after apply)',\n",
       " '      \\x1b[32m+\\x1b[0m\\x1b[0m primary_table_endpoint             = (known after apply)',\n",
       " '      \\x1b[32m+\\x1b[0m\\x1b[0m primary_table_host                 = (known after apply)',\n",
       " '      \\x1b[32m+\\x1b[0m\\x1b[0m primary_table_microsoft_endpoint   = (known after apply)',\n",
       " '      \\x1b[32m+\\x1b[0m\\x1b[0m primary_table_microsoft_host       = (known after apply)',\n",
       " '      \\x1b[32m+\\x1b[0m\\x1b[0m primary_web_endpoint               = (known after apply)',\n",
       " '      \\x1b[32m+\\x1b[0m\\x1b[0m primary_web_host                   = (known after apply)',\n",
       " '      \\x1b[32m+\\x1b[0m\\x1b[0m primary_web_internet_endpoint      = (known after apply)',\n",
       " '      \\x1b[32m+\\x1b[0m\\x1b[0m primary_web_internet_host          = (known after apply)',\n",
       " '      \\x1b[32m+\\x1b[0m\\x1b[0m primary_web_microsoft_endpoint     = (known after apply)',\n",
       " '      \\x1b[32m+\\x1b[0m\\x1b[0m primary_web_microsoft_host         = (known after apply)',\n",
       " '      \\x1b[32m+\\x1b[0m\\x1b[0m public_network_access_enabled      = true',\n",
       " '      \\x1b[32m+\\x1b[0m\\x1b[0m queue_encryption_key_type          = \"Service\"',\n",
       " '      \\x1b[32m+\\x1b[0m\\x1b[0m resource_group_name                = \"tsfn14g00\"',\n",
       " '      \\x1b[32m+\\x1b[0m\\x1b[0m secondary_access_key               = (sensitive value)',\n",
       " '      \\x1b[32m+\\x1b[0m\\x1b[0m secondary_blob_connection_string   = (sensitive value)',\n",
       " '      \\x1b[32m+\\x1b[0m\\x1b[0m secondary_blob_endpoint            = (known after apply)',\n",
       " '      \\x1b[32m+\\x1b[0m\\x1b[0m secondary_blob_host                = (known after apply)',\n",
       " '      \\x1b[32m+\\x1b[0m\\x1b[0m secondary_blob_internet_endpoint   = (known after apply)',\n",
       " '      \\x1b[32m+\\x1b[0m\\x1b[0m secondary_blob_internet_host       = (known after apply)',\n",
       " '      \\x1b[32m+\\x1b[0m\\x1b[0m secondary_blob_microsoft_endpoint  = (known after apply)',\n",
       " '      \\x1b[32m+\\x1b[0m\\x1b[0m secondary_blob_microsoft_host      = (known after apply)',\n",
       " '      \\x1b[32m+\\x1b[0m\\x1b[0m secondary_connection_string        = (sensitive value)',\n",
       " '      \\x1b[32m+\\x1b[0m\\x1b[0m secondary_dfs_endpoint             = (known after apply)',\n",
       " '      \\x1b[32m+\\x1b[0m\\x1b[0m secondary_dfs_host                 = (known after apply)',\n",
       " '      \\x1b[32m+\\x1b[0m\\x1b[0m secondary_dfs_internet_endpoint    = (known after apply)',\n",
       " '      \\x1b[32m+\\x1b[0m\\x1b[0m secondary_dfs_internet_host        = (known after apply)',\n",
       " '      \\x1b[32m+\\x1b[0m\\x1b[0m secondary_dfs_microsoft_endpoint   = (known after apply)',\n",
       " '      \\x1b[32m+\\x1b[0m\\x1b[0m secondary_dfs_microsoft_host       = (known after apply)',\n",
       " '      \\x1b[32m+\\x1b[0m\\x1b[0m secondary_file_endpoint            = (known after apply)',\n",
       " '      \\x1b[32m+\\x1b[0m\\x1b[0m secondary_file_host                = (known after apply)',\n",
       " '      \\x1b[32m+\\x1b[0m\\x1b[0m secondary_file_internet_endpoint   = (known after apply)',\n",
       " '      \\x1b[32m+\\x1b[0m\\x1b[0m secondary_file_internet_host       = (known after apply)',\n",
       " '      \\x1b[32m+\\x1b[0m\\x1b[0m secondary_file_microsoft_endpoint  = (known after apply)',\n",
       " '      \\x1b[32m+\\x1b[0m\\x1b[0m secondary_file_microsoft_host      = (known after apply)',\n",
       " '      \\x1b[32m+\\x1b[0m\\x1b[0m secondary_location                 = (known after apply)',\n",
       " '      \\x1b[32m+\\x1b[0m\\x1b[0m secondary_queue_endpoint           = (known after apply)',\n",
       " '      \\x1b[32m+\\x1b[0m\\x1b[0m secondary_queue_host               = (known after apply)',\n",
       " '      \\x1b[32m+\\x1b[0m\\x1b[0m secondary_queue_microsoft_endpoint = (known after apply)',\n",
       " '      \\x1b[32m+\\x1b[0m\\x1b[0m secondary_queue_microsoft_host     = (known after apply)',\n",
       " '      \\x1b[32m+\\x1b[0m\\x1b[0m secondary_table_endpoint           = (known after apply)',\n",
       " '      \\x1b[32m+\\x1b[0m\\x1b[0m secondary_table_host               = (known after apply)',\n",
       " '      \\x1b[32m+\\x1b[0m\\x1b[0m secondary_table_microsoft_endpoint = (known after apply)',\n",
       " '      \\x1b[32m+\\x1b[0m\\x1b[0m secondary_table_microsoft_host     = (known after apply)',\n",
       " '      \\x1b[32m+\\x1b[0m\\x1b[0m secondary_web_endpoint             = (known after apply)',\n",
       " '      \\x1b[32m+\\x1b[0m\\x1b[0m secondary_web_host                 = (known after apply)',\n",
       " '      \\x1b[32m+\\x1b[0m\\x1b[0m secondary_web_internet_endpoint    = (known after apply)',\n",
       " '      \\x1b[32m+\\x1b[0m\\x1b[0m secondary_web_internet_host        = (known after apply)',\n",
       " '      \\x1b[32m+\\x1b[0m\\x1b[0m secondary_web_microsoft_endpoint   = (known after apply)',\n",
       " '      \\x1b[32m+\\x1b[0m\\x1b[0m secondary_web_microsoft_host       = (known after apply)',\n",
       " '      \\x1b[32m+\\x1b[0m\\x1b[0m sftp_enabled                       = false',\n",
       " '      \\x1b[32m+\\x1b[0m\\x1b[0m shared_access_key_enabled          = true',\n",
       " '      \\x1b[32m+\\x1b[0m\\x1b[0m table_encryption_key_type          = \"Service\"',\n",
       " '    }',\n",
       " '',\n",
       " '\\x1b[1m  # azurerm_storage_container.main\\x1b[0m will be created',\n",
       " '\\x1b[0m  \\x1b[32m+\\x1b[0m\\x1b[0m resource \"azurerm_storage_container\" \"main\" {',\n",
       " '      \\x1b[32m+\\x1b[0m\\x1b[0m container_access_type   = \"private\"',\n",
       " '      \\x1b[32m+\\x1b[0m\\x1b[0m has_immutability_policy = (known after apply)',\n",
       " '      \\x1b[32m+\\x1b[0m\\x1b[0m has_legal_hold          = (known after apply)',\n",
       " '      \\x1b[32m+\\x1b[0m\\x1b[0m id                      = (known after apply)',\n",
       " '      \\x1b[32m+\\x1b[0m\\x1b[0m metadata                = (known after apply)',\n",
       " '      \\x1b[32m+\\x1b[0m\\x1b[0m name                    = \"videos\"',\n",
       " '      \\x1b[32m+\\x1b[0m\\x1b[0m resource_manager_id     = (known after apply)',\n",
       " '      \\x1b[32m+\\x1b[0m\\x1b[0m storage_account_name    = \"tsfn14g00\"',\n",
       " '    }',\n",
       " '',\n",
       " '\\x1b[1mPlan:\\x1b[0m 8 to add, 0 to change, 0 to destroy.',\n",
       " '\\x1b[0m',\n",
       " 'Changes to Outputs:',\n",
       " '  \\x1b[32m+\\x1b[0m\\x1b[0m app_name = \"tsfn14g00\"',\n",
       " '\\x1b[0m\\x1b[1mazurerm_resource_group.main: Creating...\\x1b[0m\\x1b[0m',\n",
       " '\\x1b[0m\\x1b[1mazurerm_resource_group.networkwatcher: Creating...\\x1b[0m\\x1b[0m',\n",
       " '\\x1b[0m\\x1b[1mazurerm_resource_group.main: Creation complete after 1s [id=/subscriptions/dc438970-aa32-41b3-8fe2-f587309a0208/resourceGroups/tsfn14g00]\\x1b[0m',\n",
       " '\\x1b[0m\\x1b[1mazurerm_container_registry.main: Creating...\\x1b[0m\\x1b[0m',\n",
       " '\\x1b[0m\\x1b[1mazurerm_storage_account.main: Creating...\\x1b[0m\\x1b[0m',\n",
       " '\\x1b[0m\\x1b[1mazurerm_kubernetes_cluster.main: Creating...\\x1b[0m\\x1b[0m',\n",
       " '\\x1b[0m\\x1b[1mazurerm_resource_group.networkwatcher: Creation complete after 1s [id=/subscriptions/dc438970-aa32-41b3-8fe2-f587309a0208/resourceGroups/NetworkWatcherRG]\\x1b[0m',\n",
       " '\\x1b[0m\\x1b[1mazurerm_network_watcher.networkwatcher: Creating...\\x1b[0m\\x1b[0m',\n",
       " '\\x1b[0m\\x1b[1mazurerm_network_watcher.networkwatcher: Creation complete after 2s [id=/subscriptions/dc438970-aa32-41b3-8fe2-f587309a0208/resourceGroups/NetworkWatcherRG/providers/Microsoft.Network/networkWatchers/NetworkWatcher_westeurope]\\x1b[0m',\n",
       " '\\x1b[0m\\x1b[1mazurerm_container_registry.main: Still creating... [10s elapsed]\\x1b[0m\\x1b[0m',\n",
       " '\\x1b[0m\\x1b[1mazurerm_storage_account.main: Still creating... [10s elapsed]\\x1b[0m\\x1b[0m',\n",
       " '\\x1b[0m\\x1b[1mazurerm_kubernetes_cluster.main: Still creating... [10s elapsed]\\x1b[0m\\x1b[0m',\n",
       " '\\x1b[0m\\x1b[1mazurerm_container_registry.main: Still creating... [20s elapsed]\\x1b[0m\\x1b[0m',\n",
       " '\\x1b[0m\\x1b[1mazurerm_storage_account.main: Still creating... [20s elapsed]\\x1b[0m\\x1b[0m',\n",
       " '\\x1b[0m\\x1b[1mazurerm_kubernetes_cluster.main: Still creating... [20s elapsed]\\x1b[0m\\x1b[0m',\n",
       " '\\x1b[0m\\x1b[1mazurerm_storage_account.main: Creation complete after 23s [id=/subscriptions/dc438970-aa32-41b3-8fe2-f587309a0208/resourceGroups/tsfn14g00/providers/Microsoft.Storage/storageAccounts/tsfn14g00]\\x1b[0m',\n",
       " '\\x1b[0m\\x1b[1mazurerm_storage_container.main: Creating...\\x1b[0m\\x1b[0m',\n",
       " '\\x1b[0m\\x1b[1mazurerm_storage_container.main: Creation complete after 1s [id=https://tsfn14g00.blob.core.windows.net/videos]\\x1b[0m',\n",
       " '\\x1b[0m\\x1b[1mazurerm_container_registry.main: Creation complete after 25s [id=/subscriptions/dc438970-aa32-41b3-8fe2-f587309a0208/resourceGroups/tsfn14g00/providers/Microsoft.ContainerRegistry/registries/tsfn14g00]\\x1b[0m',\n",
       " '\\x1b[0m\\x1b[1mazurerm_kubernetes_cluster.main: Still creating... [30s elapsed]\\x1b[0m\\x1b[0m',\n",
       " '\\x1b[0m\\x1b[1mazurerm_kubernetes_cluster.main: Still creating... [40s elapsed]\\x1b[0m\\x1b[0m',\n",
       " '\\x1b[0m\\x1b[1mazurerm_kubernetes_cluster.main: Still creating... [50s elapsed]\\x1b[0m\\x1b[0m',\n",
       " '\\x1b[0m\\x1b[1mazurerm_kubernetes_cluster.main: Still creating... [1m0s elapsed]\\x1b[0m\\x1b[0m',\n",
       " '\\x1b[0m\\x1b[1mazurerm_kubernetes_cluster.main: Still creating... [1m10s elapsed]\\x1b[0m\\x1b[0m',\n",
       " '\\x1b[0m\\x1b[1mazurerm_kubernetes_cluster.main: Still creating... [1m20s elapsed]\\x1b[0m\\x1b[0m',\n",
       " '\\x1b[0m\\x1b[1mazurerm_kubernetes_cluster.main: Still creating... [1m30s elapsed]\\x1b[0m\\x1b[0m',\n",
       " '\\x1b[0m\\x1b[1mazurerm_kubernetes_cluster.main: Still creating... [1m40s elapsed]\\x1b[0m\\x1b[0m',\n",
       " '\\x1b[0m\\x1b[1mazurerm_kubernetes_cluster.main: Still creating... [1m50s elapsed]\\x1b[0m\\x1b[0m',\n",
       " '\\x1b[0m\\x1b[1mazurerm_kubernetes_cluster.main: Still creating... [2m0s elapsed]\\x1b[0m\\x1b[0m',\n",
       " '\\x1b[0m\\x1b[1mazurerm_kubernetes_cluster.main: Still creating... [2m10s elapsed]\\x1b[0m\\x1b[0m',\n",
       " '\\x1b[0m\\x1b[1mazurerm_kubernetes_cluster.main: Still creating... [2m20s elapsed]\\x1b[0m\\x1b[0m',\n",
       " '\\x1b[0m\\x1b[1mazurerm_kubernetes_cluster.main: Still creating... [2m30s elapsed]\\x1b[0m\\x1b[0m',\n",
       " '\\x1b[0m\\x1b[1mazurerm_kubernetes_cluster.main: Still creating... [2m40s elapsed]\\x1b[0m\\x1b[0m',\n",
       " '\\x1b[0m\\x1b[1mazurerm_kubernetes_cluster.main: Still creating... [2m50s elapsed]\\x1b[0m\\x1b[0m',\n",
       " '\\x1b[0m\\x1b[1mazurerm_kubernetes_cluster.main: Still creating... [3m0s elapsed]\\x1b[0m\\x1b[0m',\n",
       " '\\x1b[0m\\x1b[1mazurerm_kubernetes_cluster.main: Still creating... [3m10s elapsed]\\x1b[0m\\x1b[0m',\n",
       " '\\x1b[0m\\x1b[1mazurerm_kubernetes_cluster.main: Still creating... [3m20s elapsed]\\x1b[0m\\x1b[0m',\n",
       " '\\x1b[0m\\x1b[1mazurerm_kubernetes_cluster.main: Still creating... [3m30s elapsed]\\x1b[0m\\x1b[0m',\n",
       " '\\x1b[0m\\x1b[1mazurerm_kubernetes_cluster.main: Still creating... [3m40s elapsed]\\x1b[0m\\x1b[0m',\n",
       " '\\x1b[0m\\x1b[1mazurerm_kubernetes_cluster.main: Still creating... [3m50s elapsed]\\x1b[0m\\x1b[0m',\n",
       " '\\x1b[0m\\x1b[1mazurerm_kubernetes_cluster.main: Still creating... [4m0s elapsed]\\x1b[0m\\x1b[0m',\n",
       " '\\x1b[0m\\x1b[1mazurerm_kubernetes_cluster.main: Still creating... [4m10s elapsed]\\x1b[0m\\x1b[0m',\n",
       " '\\x1b[0m\\x1b[1mazurerm_kubernetes_cluster.main: Creation complete after 4m17s [id=/subscriptions/dc438970-aa32-41b3-8fe2-f587309a0208/resourceGroups/tsfn14g00/providers/Microsoft.ContainerService/managedClusters/tsfn14g00]\\x1b[0m',\n",
       " '\\x1b[0m\\x1b[1mazurerm_role_assignment.main: Creating...\\x1b[0m\\x1b[0m',\n",
       " '\\x1b[0m\\x1b[1mazurerm_role_assignment.main: Still creating... [10s elapsed]\\x1b[0m\\x1b[0m',\n",
       " '\\x1b[0m\\x1b[1mazurerm_role_assignment.main: Still creating... [20s elapsed]\\x1b[0m\\x1b[0m',\n",
       " '\\x1b[0m\\x1b[1mazurerm_role_assignment.main: Creation complete after 26s [id=/subscriptions/dc438970-aa32-41b3-8fe2-f587309a0208/resourceGroups/tsfn14g00/providers/Microsoft.ContainerRegistry/registries/tsfn14g00/providers/Microsoft.Authorization/roleAssignments/fbc0c239-a012-7ccc-a456-c8be24a30156]\\x1b[0m',\n",
       " '\\x1b[0m\\x1b[1m\\x1b[32m',\n",
       " 'Apply complete! Resources: 8 added, 0 changed, 0 destroyed.',\n",
       " '\\x1b[0m\\x1b[0m\\x1b[1m\\x1b[32m',\n",
       " 'Outputs:',\n",
       " '',\n",
       " '\\x1b[0mapp_name = \"tsfn14g00\"']"
      ]
     },
     "execution_count": 2,
     "metadata": {},
     "output_type": "execute_result"
    }
   ],
   "source": [
    "%%system\n",
    "\n",
    "cd monorepo/terraform\n",
    "\n",
    "terraform init\n",
    "terraform apply -auto-approve\n",
    "\n",
    "cd ../.."
   ]
  },
  {
   "cell_type": "markdown",
   "metadata": {},
   "source": [
    "## Get the Terraform variable `app_name` in the monorepo\n",
    "\n",
    "- Store app_name in a Python variable so we can use it later in this notebook."
   ]
  },
  {
   "cell_type": "code",
   "execution_count": 3,
   "metadata": {
    "vscode": {
     "languageId": "shellscript"
    }
   },
   "outputs": [
    {
     "name": "stdout",
     "output_type": "stream",
     "text": [
      "APP_NAME: tsfn14g00\n"
     ]
    }
   ],
   "source": [
    "APP_NAME=!terraform -chdir=monorepo/terraform output\n",
    "APP_NAME = APP_NAME[0].split('\"')[1]\n",
    "print(f\"APP_NAME: {APP_NAME}\")"
   ]
  },
  {
   "cell_type": "markdown",
   "metadata": {},
   "source": [
    "## "
   ]
  },
  {
   "cell_type": "markdown",
   "metadata": {},
   "source": [
    "## List Azure Resource Groups\n",
    "\n",
    "- We see that two Azure Resource Groups were created from the `terraform` folder.\n",
    "  - An additional Azure Resource Group was created by Azure, but will be deleted when we run `terraform destroy`."
   ]
  },
  {
   "cell_type": "code",
   "execution_count": 4,
   "metadata": {
    "vscode": {
     "languageId": "shellscript"
    }
   },
   "outputs": [
    {
     "name": "stdout",
     "output_type": "stream",
     "text": [
      "Name                               Location    Status\n",
      "---------------------------------  ----------  ---------\n",
      "tsfn14g00                          westeurope  Succeeded\n",
      "NetworkWatcherRG                   westeurope  Succeeded\n",
      "MC_tsfn14g00_tsfn14g00_westeurope  westeurope  Succeeded\n"
     ]
    }
   ],
   "source": [
    "!az group list -o table"
   ]
  },
  {
   "cell_type": "markdown",
   "metadata": {},
   "source": [
    "## List Azure Kubernetes Services\n",
    "\n",
    "- We see that an Azure Kubernetes Service was created from the `terraform` folder."
   ]
  },
  {
   "cell_type": "code",
   "execution_count": 5,
   "metadata": {
    "vscode": {
     "languageId": "shellscript"
    }
   },
   "outputs": [
    {
     "name": "stdout",
     "output_type": "stream",
     "text": [
      "Name       Location    ResourceGroup    KubernetesVersion    CurrentKubernetesVersion    ProvisioningState    Fqdn\n",
      "---------  ----------  ---------------  -------------------  --------------------------  -------------------  -------------------------------------------\n",
      "tsfn14g00  westeurope  tsfn14g00        1.27.7               1.27.7                      Succeeded            tsfn14g00-ddvzjt83.hcp.westeurope.azmk8s.io\n"
     ]
    }
   ],
   "source": [
    "!az aks list -o table"
   ]
  },
  {
   "cell_type": "markdown",
   "metadata": {},
   "source": [
    "## List Azure Container Registries\n",
    "\n",
    "- We see that an Azure Container Registry was created from the `terraform` folder."
   ]
  },
  {
   "cell_type": "code",
   "execution_count": 6,
   "metadata": {
    "vscode": {
     "languageId": "shellscript"
    }
   },
   "outputs": [
    {
     "name": "stdout",
     "output_type": "stream",
     "text": [
      "NAME       RESOURCE GROUP    LOCATION    SKU    LOGIN SERVER          CREATION DATE         ADMIN ENABLED\n",
      "---------  ----------------  ----------  -----  --------------------  --------------------  ---------------\n",
      "tsfn14g00  tsfn14g00         westeurope  Basic  tsfn14g00.azurecr.io  2024-02-12T02:10:39Z  True\n"
     ]
    }
   ],
   "source": [
    "!az acr list -o table"
   ]
  },
  {
   "cell_type": "markdown",
   "metadata": {},
   "source": [
    "## List Azure Storage Accounts\n",
    "\n",
    "- We see that an Azure Storage Account was created from the `terraform` folder.\n",
    "  - It also creates an Storage Container called `videos` under the Azure Storage Account."
   ]
  },
  {
   "cell_type": "code",
   "execution_count": 7,
   "metadata": {
    "vscode": {
     "languageId": "shellscript"
    }
   },
   "outputs": [
    {
     "name": "stdout",
     "output_type": "stream",
     "text": [
      "AccessTier    AllowBlobPublicAccess    AllowCrossTenantReplication    AllowSharedKeyAccess    CreationTime                      DefaultToOAuthAuthentication    EnableHttpsTrafficOnly    EnableNfsV3    IsHnsEnabled    IsSftpEnabled    Kind       Location    MinimumTlsVersion    Name       PrimaryLocation    ProvisioningState    PublicNetworkAccess    ResourceGroup    StatusOfPrimary\n",
      "------------  -----------------------  -----------------------------  ----------------------  --------------------------------  ------------------------------  ------------------------  -------------  --------------  ---------------  ---------  ----------  -------------------  ---------  -----------------  -------------------  ---------------------  ---------------  -----------------\n",
      "Hot           True                     True                           True                    2024-02-12T02:10:39.101446+00:00  False                           True                      False          False           False            StorageV2  westeurope  TLS1_2               tsfn14g00  westeurope         Succeeded            Enabled                tsfn14g00        available\n"
     ]
    }
   ],
   "source": [
    "!az storage account list -o table"
   ]
  },
  {
   "cell_type": "markdown",
   "metadata": {},
   "source": [
    "## Get Access Information for the Azure Container Registry\n",
    "\n",
    "- We need this information to configure our microservices and kubernetes deployments.\n",
    "- Let's store the LOGIN SERVER, USERNAME and PASSWORD in Python variables so we can use them later in this notebook."
   ]
  },
  {
   "cell_type": "code",
   "execution_count": 8,
   "metadata": {
    "vscode": {
     "languageId": "shellscript"
    }
   },
   "outputs": [
    {
     "name": "stdout",
     "output_type": "stream",
     "text": [
      "CONTAINER_REGISTRY_LOGIN_SERVER: tsfn14g00.azurecr.io\n",
      "CONTAINER_REGISTRY_USERNAME: tsfn14g00\n",
      "CONTAINER_REGISTRY_PASSWORD: IZDCtrY5gREP4T0aqt/Kjf/y7iIHEBroDCfzRX7tZJ+ACRBCfqQU\n"
     ]
    }
   ],
   "source": [
    "CONTAINER_REGISTRY_LOGIN_SERVER=!az acr show -n {APP_NAME} --query loginServer -o tsv\n",
    "CONTAINER_REGISTRY_LOGIN_SERVER=CONTAINER_REGISTRY_LOGIN_SERVER[0]\n",
    "CONTAINER_REGISTRY_USERNAME=!az acr credential show -n {APP_NAME} --query username -o tsv\n",
    "CONTAINER_REGISTRY_USERNAME=CONTAINER_REGISTRY_USERNAME[0]\n",
    "CONTAINER_REGISTRY_PASSWORD=!az acr credential show -n {APP_NAME} --query passwords[0].value -o tsv\n",
    "CONTAINER_REGISTRY_PASSWORD=CONTAINER_REGISTRY_PASSWORD[0]\n",
    "\n",
    "print(f\"CONTAINER_REGISTRY_LOGIN_SERVER: {CONTAINER_REGISTRY_LOGIN_SERVER}\")\n",
    "print(f\"CONTAINER_REGISTRY_USERNAME: {CONTAINER_REGISTRY_USERNAME}\")\n",
    "print(f\"CONTAINER_REGISTRY_PASSWORD: {CONTAINER_REGISTRY_PASSWORD}\")"
   ]
  },
  {
   "cell_type": "markdown",
   "metadata": {},
   "source": [
    "## Get Access Information for Azure Storage Account\n",
    "\n",
    "- We need this information to configure our microservices and kubernetes deployments.\n",
    "- Let's store the STORAGE ACCOUNT NAME and STORAGE ACCES KEY in Python variables so we can use them later in this notebook."
   ]
  },
  {
   "cell_type": "code",
   "execution_count": 9,
   "metadata": {
    "vscode": {
     "languageId": "shellscript"
    }
   },
   "outputs": [
    {
     "name": "stdout",
     "output_type": "stream",
     "text": [
      "STORAGE_ACCOUNT_NAME: tsfn14g00\n",
      "STORAGE_ACCESS_KEY: ptIjvtN1ArJbTTdktZ2HXHYlxRWJY6sDDwiWj3QYt3mKa1ZPfIlJLRnZTF+//FZeBbK2Qved3KxH+AStQAwmVA==\n"
     ]
    }
   ],
   "source": [
    "STORAGE_ACCOUNT_NAME=!az storage account list --query [0].name -o tsv\n",
    "STORAGE_ACCOUNT_NAME=STORAGE_ACCOUNT_NAME[0]\n",
    "STORAGE_ACCESS_KEY=!az storage account keys list --account-name tsfn14g00 --resource-group tsfn14g00 --query [0].value -o tsv\n",
    "STORAGE_ACCESS_KEY=STORAGE_ACCESS_KEY[0]\n",
    "\n",
    "print(f\"STORAGE_ACCOUNT_NAME: {STORAGE_ACCOUNT_NAME}\")\n",
    "print(f\"STORAGE_ACCESS_KEY: {STORAGE_ACCESS_KEY}\")"
   ]
  },
  {
   "cell_type": "markdown",
   "metadata": {},
   "source": [
    "## Upload a file to Container `videos` in Storage Container\n",
    "\n",
    "- The microservices application doesn't have a front-end, so we can't upload a file to the Storage Container via a web interface.\n",
    "- Here we manually upload the file `SampleVideo_1280x720_1mb.mp4` from the `videos` subfolder to the Storage Container.\n",
    "  - We do this so the `video-storage` microservice will find the file when we test the applciation."
   ]
  },
  {
   "cell_type": "code",
   "execution_count": 10,
   "metadata": {
    "vscode": {
     "languageId": "shellscript"
    }
   },
   "outputs": [
    {
     "name": "stdout",
     "output_type": "stream",
     "text": [
      "Finished[#############################################################]  100.0000%\n",
      "Client_request_id                     Content_md5               Date                       LastModified               Request_id                            Request_server_encrypted    Version\n",
      "------------------------------------  ------------------------  -------------------------  -------------------------  ------------------------------------  --------------------------  ----------\n",
      "ada885c0-c94c-11ee-ad81-fff0521565fd  1Vvd+NYpEIee2fYFUiFJqA==  2024-02-12T02:16:06+00:00  2024-02-12T02:16:07+00:00  29c30613-601e-004a-1759-5db42b000000  True                        2022-11-02\n",
      "Name                          Blob Type    Blob Tier    Length    Content Type    Last Modified              Snapshot\n",
      "----------------------------  -----------  -----------  --------  --------------  -------------------------  ----------\n",
      "SampleVideo_1280x720_1mb.mp4  BlockBlob    Hot          1055736   video/mp4       2024-02-12T02:16:07+00:00\n"
     ]
    }
   ],
   "source": [
    "!az storage blob upload --container-name videos --name SampleVideo_1280x720_1mb.mp4 --file videos/SampleVideo_1280x720_1mb.mp4 --account-name {STORAGE_ACCOUNT_NAME} --account-key {STORAGE_ACCESS_KEY} -o table\n",
    "!az storage blob list --container-name videos --account-name {STORAGE_ACCOUNT_NAME} --account-key {STORAGE_ACCESS_KEY} -o table "
   ]
  },
  {
   "cell_type": "markdown",
   "metadata": {},
   "source": [
    "## Add Azure Kubernetes Cluster Info. to Local Kubectl Config File\n",
    "\n",
    "- We need to fetch the configuration information from our Azure Kubernetes Service (AKS) and update our kubectl's config file.\n",
    "- Here we are creating a backup of our current kubectl config file, before repalcing it will the AKS config file.\n",
    "- Finally, we ensure we are using the AKS context when issuing kubectl commands.\n",
    "\n",
    "**Note**\n",
    "\n",
    "- The command below attaches the Azure Kubernetes Cluster to the Azure Container Registry\n",
    "  - So that the Azure Kubernetes Cluster can pull images from the Azure Container Registry.\n",
    "- But we don't have to do this here, since we do it in the Terraform file \"kubernetes-cluster.tf\".\n",
    "\n",
    "  ```bash\n",
    "  az aks update -n {APP_NAME} -g {APP_NAME} --attach-acr {APP_NAME} -o table\n",
    "  ```"
   ]
  },
  {
   "cell_type": "markdown",
   "metadata": {},
   "source": [
    "#### Run this on Linux/macOS"
   ]
  },
  {
   "cell_type": "code",
   "execution_count": 11,
   "metadata": {
    "vscode": {
     "languageId": "shellscript"
    }
   },
   "outputs": [
    {
     "data": {
      "text/plain": [
       "['WARNING: Merged \"tsfn14g00\" as current context in /home/patrick/.kube/config',\n",
       " 'tsfn14g00']"
      ]
     },
     "execution_count": 11,
     "metadata": {},
     "output_type": "execute_result"
    }
   ],
   "source": [
    "%%system\n",
    "\n",
    "cp ~/.kube/config ~/.kube/config.bak\n",
    "rm ~/.kube/config\n",
    "az aks get-credentials --name {APP_NAME} --resource-group {APP_NAME}\n",
    "kubectl config current-context"
   ]
  },
  {
   "cell_type": "markdown",
   "metadata": {},
   "source": [
    "#### Run this on Windows"
   ]
  },
  {
   "cell_type": "code",
   "execution_count": 102,
   "metadata": {
    "vscode": {
     "languageId": "shellscript"
    }
   },
   "outputs": [
    {
     "data": {
      "text/plain": [
       "['WARNING: Merged \"tsfn14g00\" as current context in /home/patrick/.kube/config',\n",
       " 'tsfn14g00']"
      ]
     },
     "execution_count": 102,
     "metadata": {},
     "output_type": "execute_result"
    }
   ],
   "source": [
    "%%system\n",
    "\n",
    "xcopy %USERPROFILE%\\.kube\\config %USERPROFILE%\\.kube\\config.bak*\n",
    "del %USERPROFILE%\\.kube\\config\n",
    "az aks get-credentials --name {APP_NAME} --resource-group {APP_NAME}\n",
    "kubectl config current-context"
   ]
  },
  {
   "cell_type": "markdown",
   "metadata": {},
   "source": [
    "## Get Base64 Encoded Kubectl Config File\n",
    "\n",
    "- We need one final piece of information to configure our GitHub Actions workflow:\n",
    "  - A Base64-encoded version of your kubectl config file.\n",
    "  - This is needed by the GitHub Actions workflow running which will be issuing kubectl commands against the AKS cluster.\n",
    "  - Let's store the Base64-encoded kubectl config file in a Python variable so we can use it later in this notebook.\n",
    "\n",
    "**Note**\n",
    "\n",
    "- On Windows, before running the cell below:\n",
    "  - Download Base64 from here: https://www.di-mgt.com.au/base64-for-windows.html\n",
    "  - Place the binary `Base64.exe` in the folder `04_Azure_and_Github_Actions`.\n",
    "  - Run the command `KUBE_CONFIG=!type ~/.kube/config | base64 -w 0` instead of `KUBE_CONFIG=!cat ~/.kube/config | base64 -w 0`."
   ]
  },
  {
   "cell_type": "code",
   "execution_count": 12,
   "metadata": {
    "vscode": {
     "languageId": "shellscript"
    }
   },
   "outputs": [
    {
     "name": "stdout",
     "output_type": "stream",
     "text": [
      "KUBE_CONFIG:\n",
      "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\n"
     ]
    }
   ],
   "source": [
    "KUBE_CONFIG=!cat ~/.kube/config | base64 -w 0\n",
    "KUBE_CONFIG=KUBE_CONFIG[0]\n",
    "\n",
    "print(f\"KUBE_CONFIG:\\n{KUBE_CONFIG}\")"
   ]
  },
  {
   "cell_type": "markdown",
   "metadata": {},
   "source": [
    "## Set GitHub Actions Repository Secrets\n",
    "\n",
    "- We can add \"secret\" key-value pairs to our GitHub Repository, which can be accessed by our GitHub Actions Workflows.\n",
    "- We do this so we don't hard-code sensitive information into our GitHub Actions Workflow files.\n",
    "- You can do this manually in GitHub by:\n",
    " - Clicking on your `monorepo` Respository in GitHub.\n",
    " - Clicking on the `Settings` tab near the top of the web page.\n",
    " - Expanding the `Secrets and Values` combobox in the left margin on the web page and choosing `Actions`.\n",
    " - Clicking the button `New repository secret` under `Repository secrets`.\n",
    " - Entering a `Name` and a `Secret`, followed by clicking `Add secret`.\n",
    " - Repeat the previous step for all the necesary key-value pairs for the keys.\n",
    "   - `CONTAINER_REGISTRY_LOGIN_SERVER`\n",
    "   - `CONTAINER_REGISTRY_USERNAME`\n",
    "   - `CONTAINER_REGISTRY_PASSWORD`\n",
    "   - `STORAGE_ACCOUNT_NAME`\n",
    "   - `STORAGE_ACCESS_KEY`\n",
    "   - `KUBE_CONFIG`\n",
    "- The values (secrets) you need to enter for these keys (names) are repeated below."
   ]
  },
  {
   "cell_type": "code",
   "execution_count": 13,
   "metadata": {
    "vscode": {
     "languageId": "shellscript"
    }
   },
   "outputs": [
    {
     "name": "stdout",
     "output_type": "stream",
     "text": [
      "CONTAINER_REGISTRY_LOGIN_SERVER: tsfn14g00.azurecr.io\n",
      "CONTAINER_REGISTRY_USERNAME: tsfn14g00\n",
      "CONTAINER_REGISTRY_PASSWORD: IZDCtrY5gREP4T0aqt/Kjf/y7iIHEBroDCfzRX7tZJ+ACRBCfqQU\n",
      "STORAGE_ACCOUNT_NAME: tsfn14g00\n",
      "STORAGE_ACCESS_KEY: ptIjvtN1ArJbTTdktZ2HXHYlxRWJY6sDDwiWj3QYt3mKa1ZPfIlJLRnZTF+//FZeBbK2Qved3KxH+AStQAwmVA==\n",
      "KUBE_CONFIG: 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\n"
     ]
    }
   ],
   "source": [
    "print(f\"CONTAINER_REGISTRY_LOGIN_SERVER: {CONTAINER_REGISTRY_LOGIN_SERVER}\")\n",
    "print(f\"CONTAINER_REGISTRY_USERNAME: {CONTAINER_REGISTRY_USERNAME}\")\n",
    "print(f\"CONTAINER_REGISTRY_PASSWORD: {CONTAINER_REGISTRY_PASSWORD}\")\n",
    "print(f\"STORAGE_ACCOUNT_NAME: {STORAGE_ACCOUNT_NAME}\")\n",
    "print(f\"STORAGE_ACCESS_KEY: {STORAGE_ACCESS_KEY}\")\n",
    "print(f\"KUBE_CONFIG: {KUBE_CONFIG}\")"
   ]
  },
  {
   "cell_type": "markdown",
   "metadata": {},
   "source": [
    "## Set the key-value (name-secret) pairs using the GitHub CLI\n",
    "\n",
    "- Alternatively, we can set the GitHub Actions Name-Secret pairs using the GitHub CLI below."
   ]
  },
  {
   "cell_type": "code",
   "execution_count": 14,
   "metadata": {
    "vscode": {
     "languageId": "shellscript"
    }
   },
   "outputs": [
    {
     "data": {
      "text/plain": [
       "['CONTAINER_REGISTRY_LOGIN_SERVER\\t2024-02-12T02:48:43Z',\n",
       " 'CONTAINER_REGISTRY_PASSWORD\\t2024-02-12T02:48:45Z',\n",
       " 'CONTAINER_REGISTRY_USERNAME\\t2024-02-12T02:48:44Z',\n",
       " 'KUBE_CONFIG\\t2024-02-12T02:48:46Z',\n",
       " 'STORAGE_ACCESS_KEY\\t2024-02-12T02:48:46Z',\n",
       " 'STORAGE_ACCOUNT_NAME\\t2024-02-12T02:48:45Z']"
      ]
     },
     "execution_count": 14,
     "metadata": {},
     "output_type": "execute_result"
    }
   ],
   "source": [
    "%%system\n",
    "\n",
    "cd monorepo\n",
    "\n",
    "gh secret set CONTAINER_REGISTRY_LOGIN_SERVER --body {CONTAINER_REGISTRY_LOGIN_SERVER}\n",
    "gh secret set CONTAINER_REGISTRY_USERNAME --body {CONTAINER_REGISTRY_USERNAME}\n",
    "gh secret set CONTAINER_REGISTRY_PASSWORD --body {CONTAINER_REGISTRY_PASSWORD}\n",
    "gh secret set STORAGE_ACCOUNT_NAME --body {STORAGE_ACCOUNT_NAME}\n",
    "gh secret set STORAGE_ACCESS_KEY --body {STORAGE_ACCESS_KEY}\n",
    "gh secret set KUBE_CONFIG --body {KUBE_CONFIG}\n",
    "\n",
    "gh secret list\n",
    "\n",
    "cd .."
   ]
  },
  {
   "cell_type": "markdown",
   "metadata": {},
   "source": [
    "## List GitHub Actions Workflows in Repository\n",
    "\n",
    "- Let's use the GitHub CLI to list the GitHub Actions Workflows we have in our `monorepo` repository.\n",
    "- We see two Workflows, one for each of our two microservices.\n",
    "- If you look at the workflow for the `video-storage` microservice, you will see:\n",
    "  - How the \"secrets\" we just added are accessed in the workflow, e.g. `secrets.CONTAINER_REGISTRY_LOGIN_SERVER`.\n",
    "  - How the `paths` setting is used to only trigger the workflow when a `git push` is make to the `video-storage`subfolder:\n",
    "\n",
    "    ```bash\n",
    "    push:\n",
    "        branches:\n",
    "          - master\n",
    "        paths:\n",
    "          - 'video-storage/**' # Only trigger on push to video-storage subfolder.\n",
    "    ```\n",
    "\n",
    "  - How the `working-directory` setting is used to make all `run` commands execute in the `video-storage` subfolder:\n",
    "  - \n",
    "    ```bash\n",
    "    jobs:\n",
    "      video-storage:\n",
    "        runs-on: ubuntu-latest\n",
    "        defaults:\n",
    "          run:\n",
    "            working-directory: 'video-storage' # Sets default path for \"run\" commands to the video-storage subfolder.\n",
    "    ```\n",
    "\n",
    "  - How the `cache-dependency-path` setting is used to reference the `package-lock.json` file in the `video-streaming` subfolder:\n",
    "  - \n",
    "    ```bash\n",
    "    # Installs Node.js.\n",
    "          - uses: actions/setup-node@v4\n",
    "            with:\n",
    "              node-version: 19.9.0\n",
    "              cache: 'npm'\n",
    "              cache-dependency-path: 'video-storage/package-lock.json' # Path to package-lock.json in video-storage.\n",
    "    ```\n",
    "  - How the hash SHA (Secure Hash Algoritm) is used for the latest commit to set the version for the Docker Image:\n",
    "\n",
    "    ```bash\n",
    "    VERSION: ${{ github.sha }} # Quick and dirty way to automatically set the next version for the Docker Image\n",
    "    ```"
   ]
  },
  {
   "cell_type": "code",
   "execution_count": 15,
   "metadata": {
    "vscode": {
     "languageId": "shellscript"
    }
   },
   "outputs": [
    {
     "data": {
      "text/plain": [
       "['Deploy video-storage microservice\\tactive\\t85694508',\n",
       " 'Deploy video-streaming microservice\\tactive\\t85694509']"
      ]
     },
     "execution_count": 15,
     "metadata": {},
     "output_type": "execute_result"
    }
   ],
   "source": [
    "%%system\n",
    "\n",
    "cd monorepo\n",
    "gh workflow list\n",
    "cd .."
   ]
  },
  {
   "cell_type": "markdown",
   "metadata": {},
   "source": [
    "## Run GitHub Actions Workflows in Repository\n",
    "\n",
    "- Let's trigger our first run of the two workflows manually.\n",
    "- After running the cell below, check the workflows in action on GitHub, where each workflow will:\n",
    "  - Run Jest tests for the microservice.\n",
    "  - Build a Docker Image for the microservice (with a new version tag).\n",
    "  - Push the Docker image to the Azure Container Registry.\n",
    "  - Deploy the microservice's YAML manifest file using kubectl.\n",
    "- Only continue to the next cell once the GitHub Actions Workflows have completed."
   ]
  },
  {
   "cell_type": "code",
   "execution_count": 16,
   "metadata": {
    "vscode": {
     "languageId": "shellscript"
    }
   },
   "outputs": [
    {
     "data": {
      "text/plain": [
       "[]"
      ]
     },
     "execution_count": 16,
     "metadata": {},
     "output_type": "execute_result"
    }
   ],
   "source": [
    "%%system\n",
    "\n",
    "cd monorepo\n",
    "gh workflow run \"Deploy video-storage microservice\"\n",
    "gh workflow run \"Deploy video-streaming microservice\"\n",
    "cd .."
   ]
  },
  {
   "cell_type": "markdown",
   "metadata": {},
   "source": [
    "## Get Load Balancer Public IP Address\n",
    "\n",
    "- The `video-streaming` microservice has a kubenetes Service of type Loadbalancer.\n",
    "- Let's get the Service's public IP address so we can access teh kubernetes cluster over the internet.\n",
    "- Let's store the Load Balancer's EXTERNAL-IP (public IP) in a Python variable so we can use it later in this notebook."
   ]
  },
  {
   "cell_type": "code",
   "execution_count": 17,
   "metadata": {
    "vscode": {
     "languageId": "shellscript"
    }
   },
   "outputs": [
    {
     "name": "stdout",
     "output_type": "stream",
     "text": [
      "LOAD_BALANCER_PUBLIC_IP: 20.126.192.254\n"
     ]
    }
   ],
   "source": [
    "LOAD_BALANCER_PUBLIC_IP=!kubectl get service video-streaming -o jsonpath='{.status.loadBalancer.ingress[0].ip}'\n",
    "LOAD_BALANCER_PUBLIC_IP=LOAD_BALANCER_PUBLIC_IP[0]\n",
    "\n",
    "print(f\"LOAD_BALANCER_PUBLIC_IP: {LOAD_BALANCER_PUBLIC_IP}\")"
   ]
  },
  {
   "cell_type": "markdown",
   "metadata": {},
   "source": [
    "## Test the Microservice Application in the Kubernetes Cluster\n",
    "\n",
    "- Open a browser and enter the URL `http://EXTERNAL-IP/video?id=SampleVideo_1280x720_1mb.mp4`, where `EXTERNAL-IP` is the IP address above.\n",
    "  - The browser sends an HTTP GET request to the video-streaming microservice's GET route for the `/video` path.\n",
    "  - The video-streaming microservice:\n",
    "    - Extracts the `id` from the querystring.\n",
    "    - Sends an HTTP GET request to the video-storage microservice's GET route for the `/video` path with `id=SampleVideo_1280x720_1mb.mp4`.\n",
    "  - The video-storage microservice:\n",
    "    - Extracts the `id` from the querystring.\n",
    "    - Fetches the video from the Azure Storage Container `videos` by using the `id` to find the file.\n",
    "  - The video is:\n",
    "    - Streamed from the video-storage microservice to the video-streaming microservice.\n",
    "    - Streamed from the video-streaming microservice to the web browser.\n",
    "- You should see a video being played in your broswer."
   ]
  },
  {
   "cell_type": "code",
   "execution_count": 18,
   "metadata": {
    "vscode": {
     "languageId": "shellscript"
    }
   },
   "outputs": [
    {
     "name": "stdout",
     "output_type": "stream",
     "text": [
      "[GFX1-]: glxtest: ManageChildProcess failed\n",
      "\n"
     ]
    }
   ],
   "source": [
    "#!firefox http://{LOAD_BALANCER_PUBLIC_IP}/video?id=SampleVideo_1280x720_1mb.mp4"
   ]
  },
  {
   "cell_type": "markdown",
   "metadata": {},
   "source": [
    "## Get image name of current video-streaming Pod\n",
    "\n",
    "- Let's get the name of the Docker image used by the `video-streaming` Pod.\n",
    "- Notice the version tag at the very end on the image name.\n",
    "  - This is the hash (SHA) automatically set by the GitHub Actions Workflow."
   ]
  },
  {
   "cell_type": "code",
   "execution_count": 19,
   "metadata": {
    "vscode": {
     "languageId": "shellscript"
    }
   },
   "outputs": [
    {
     "name": "stdout",
     "output_type": "stream",
     "text": [
      "tsfn14g00.azurecr.io/video-streaming:a17ea8f0fce63e50b70d7c9b7312a054adfeb260"
     ]
    }
   ],
   "source": [
    "!kubectl get deployment video-streaming -o=jsonpath='{$.spec.template.spec.containers[0].image}'"
   ]
  },
  {
   "cell_type": "markdown",
   "metadata": {},
   "source": [
    "## Modify file in video-streamning microservice and push changes to GitHub\n",
    "\n",
    "- Now, let's change the file `index.js` for the `video-streaming` microservice in the `monorepo` repository.\n",
    "  - Followed by a `git add`, a `git commit` and a `git push`.\n",
    "- Since we are chaning a file in the `video-streaming` subfolder, only the `video-streaming` GitHub Actions Workflow will be triggered.\n",
    "- This will result in a new Docker image, with a new version tag, being deployed to the Container Registry.\n",
    "  - Followed by a new `kubectl apply` to the updated YAML manifest file for the `video-streaming` microservice.\n",
    "- After running the cell below, make sure the GitHub Actions `video-streaming` Workflow on GitHub has completed before continuing.\n",
    "- **Note**: On Windows, run the command `echo // Comment >> video-streaming\\src\\index.js`\n",
    "  - instead of `echo '// Comment' >> video-streaming/src/index.js`"
   ]
  },
  {
   "cell_type": "code",
   "execution_count": 20,
   "metadata": {
    "vscode": {
     "languageId": "shellscript"
    }
   },
   "outputs": [
    {
     "data": {
      "text/plain": [
       "['[master f66cf21] Update index.js',\n",
       " ' 1 file changed, 1 insertion(+), 1 deletion(-)',\n",
       " 'To https://github.com/paga-ju/monorepo.git',\n",
       " '   a17ea8f..f66cf21  master -> master']"
      ]
     },
     "execution_count": 20,
     "metadata": {},
     "output_type": "execute_result"
    }
   ],
   "source": [
    "%%system\n",
    "\n",
    "cd monorepo\n",
    "\n",
    "echo '// Comment' >> video-streaming/src/index.js\n",
    "git add video-streaming/src/index.js\n",
    "git commit -m \"Update index.js\"\n",
    "git push\n",
    "\n",
    "cd .."
   ]
  },
  {
   "cell_type": "markdown",
   "metadata": {},
   "source": [
    "## Get image name of current video-streaming Pod\n",
    "\n",
    "- Let's get the name of the Docker image used by the `video-streaming` Pod again.\n",
    "- Notice the version tag at the very end on the image name.\n",
    "  - We see a new hash (SHA) version tag value for the Docker image."
   ]
  },
  {
   "cell_type": "code",
   "execution_count": 21,
   "metadata": {
    "vscode": {
     "languageId": "shellscript"
    }
   },
   "outputs": [
    {
     "name": "stdout",
     "output_type": "stream",
     "text": [
      "tsfn14g00.azurecr.io/video-streaming:f66cf21591395153bc8a054ebe6037649a09805f"
     ]
    }
   ],
   "source": [
    "!kubectl get deployment video-streaming -o=jsonpath='{$.spec.template.spec.containers[0].image}'"
   ]
  },
  {
   "cell_type": "markdown",
   "metadata": {},
   "source": [
    "## Ensure the Kubectl Context is set to the Minikube Cluster\n",
    "\n",
    "- Let's restore our local kubectl config file.\n",
    "- The cell below will replace the existing kubectl config file with the backup we made before.\n",
    "  - Followed by changing the context to `minikube`.\n",
    "    - If you aren't using minikube, use `kubectl config unset current-context` below instead of `kubectl config use-context minikube`.\n",
    "- **Note**: On Windows, run the command `xcopy %USERPROFILE%\\.kube\\config.bak %USERPROFILE%\\.kube\\config*`\n",
    "  - instead of `cp ~/.kube/config.bak ~/.kube/config`."
   ]
  },
  {
   "cell_type": "code",
   "execution_count": 22,
   "metadata": {
    "vscode": {
     "languageId": "shellscript"
    }
   },
   "outputs": [
    {
     "data": {
      "text/plain": [
       "['Switched to context \"minikube\".', 'minikube']"
      ]
     },
     "execution_count": 22,
     "metadata": {},
     "output_type": "execute_result"
    }
   ],
   "source": [
    "%%system\n",
    "\n",
    "cp ~/.kube/config.bak ~/.kube/config\n",
    "kubectl config use-context minikube\n",
    "kubectl config current-context"
   ]
  },
  {
   "cell_type": "markdown",
   "metadata": {},
   "source": [
    "## Terraform Destroy\n",
    "\n",
    "- Let's destroy our infrastructure on Azure by running `terraform destroy` in the `terraform` folder in the `monorepo` subfolder."
   ]
  },
  {
   "cell_type": "code",
   "execution_count": 23,
   "metadata": {
    "vscode": {
     "languageId": "shellscript"
    }
   },
   "outputs": [
    {
     "data": {
      "text/plain": [
       "['\\x1b[0m\\x1b[1mazurerm_resource_group.main: Refreshing state... [id=/subscriptions/dc438970-aa32-41b3-8fe2-f587309a0208/resourceGroups/tsfn14g00]\\x1b[0m',\n",
       " '\\x1b[0m\\x1b[1mazurerm_resource_group.networkwatcher: Refreshing state... [id=/subscriptions/dc438970-aa32-41b3-8fe2-f587309a0208/resourceGroups/NetworkWatcherRG]\\x1b[0m',\n",
       " '\\x1b[0m\\x1b[1mazurerm_container_registry.main: Refreshing state... [id=/subscriptions/dc438970-aa32-41b3-8fe2-f587309a0208/resourceGroups/tsfn14g00/providers/Microsoft.ContainerRegistry/registries/tsfn14g00]\\x1b[0m',\n",
       " '\\x1b[0m\\x1b[1mazurerm_storage_account.main: Refreshing state... [id=/subscriptions/dc438970-aa32-41b3-8fe2-f587309a0208/resourceGroups/tsfn14g00/providers/Microsoft.Storage/storageAccounts/tsfn14g00]\\x1b[0m',\n",
       " '\\x1b[0m\\x1b[1mazurerm_kubernetes_cluster.main: Refreshing state... [id=/subscriptions/dc438970-aa32-41b3-8fe2-f587309a0208/resourceGroups/tsfn14g00/providers/Microsoft.ContainerService/managedClusters/tsfn14g00]\\x1b[0m',\n",
       " '\\x1b[0m\\x1b[1mazurerm_network_watcher.networkwatcher: Refreshing state... [id=/subscriptions/dc438970-aa32-41b3-8fe2-f587309a0208/resourceGroups/NetworkWatcherRG/providers/Microsoft.Network/networkWatchers/NetworkWatcher_westeurope]\\x1b[0m',\n",
       " '\\x1b[0m\\x1b[1mazurerm_storage_container.main: Refreshing state... [id=https://tsfn14g00.blob.core.windows.net/videos]\\x1b[0m',\n",
       " '\\x1b[0m\\x1b[1mazurerm_role_assignment.main: Refreshing state... [id=/subscriptions/dc438970-aa32-41b3-8fe2-f587309a0208/resourceGroups/tsfn14g00/providers/Microsoft.ContainerRegistry/registries/tsfn14g00/providers/Microsoft.Authorization/roleAssignments/fbc0c239-a012-7ccc-a456-c8be24a30156]\\x1b[0m',\n",
       " '',\n",
       " 'Terraform used the selected providers to generate the following execution',\n",
       " 'plan. Resource actions are indicated with the following symbols:',\n",
       " '  \\x1b[31m-\\x1b[0m destroy\\x1b[0m',\n",
       " '',\n",
       " 'Terraform will perform the following actions:',\n",
       " '',\n",
       " '\\x1b[1m  # azurerm_container_registry.main\\x1b[0m will be \\x1b[1m\\x1b[31mdestroyed\\x1b[0m',\n",
       " '\\x1b[0m  \\x1b[31m-\\x1b[0m\\x1b[0m resource \"azurerm_container_registry\" \"main\" {',\n",
       " '      \\x1b[31m-\\x1b[0m\\x1b[0m admin_enabled                 = true \\x1b[90m-> null\\x1b[0m\\x1b[0m',\n",
       " '      \\x1b[31m-\\x1b[0m\\x1b[0m admin_password                = (sensitive value) \\x1b[90m-> null\\x1b[0m\\x1b[0m',\n",
       " '      \\x1b[31m-\\x1b[0m\\x1b[0m admin_username                = \"tsfn14g00\" \\x1b[90m-> null\\x1b[0m\\x1b[0m',\n",
       " '      \\x1b[31m-\\x1b[0m\\x1b[0m anonymous_pull_enabled        = false \\x1b[90m-> null\\x1b[0m\\x1b[0m',\n",
       " '      \\x1b[31m-\\x1b[0m\\x1b[0m data_endpoint_enabled         = false \\x1b[90m-> null\\x1b[0m\\x1b[0m',\n",
       " '      \\x1b[31m-\\x1b[0m\\x1b[0m encryption                    = [',\n",
       " '          \\x1b[31m-\\x1b[0m\\x1b[0m {',\n",
       " '              \\x1b[31m-\\x1b[0m\\x1b[0m enabled            = false',\n",
       " '              \\x1b[31m-\\x1b[0m\\x1b[0m identity_client_id = \"\"',\n",
       " '              \\x1b[31m-\\x1b[0m\\x1b[0m key_vault_key_id   = \"\"',\n",
       " '            },',\n",
       " '        ] \\x1b[90m-> null\\x1b[0m\\x1b[0m',\n",
       " '      \\x1b[31m-\\x1b[0m\\x1b[0m export_policy_enabled         = true \\x1b[90m-> null\\x1b[0m\\x1b[0m',\n",
       " '      \\x1b[31m-\\x1b[0m\\x1b[0m id                            = \"/subscriptions/dc438970-aa32-41b3-8fe2-f587309a0208/resourceGroups/tsfn14g00/providers/Microsoft.ContainerRegistry/registries/tsfn14g00\" \\x1b[90m-> null\\x1b[0m\\x1b[0m',\n",
       " '      \\x1b[31m-\\x1b[0m\\x1b[0m location                      = \"westeurope\" \\x1b[90m-> null\\x1b[0m\\x1b[0m',\n",
       " '      \\x1b[31m-\\x1b[0m\\x1b[0m login_server                  = \"tsfn14g00.azurecr.io\" \\x1b[90m-> null\\x1b[0m\\x1b[0m',\n",
       " '      \\x1b[31m-\\x1b[0m\\x1b[0m name                          = \"tsfn14g00\" \\x1b[90m-> null\\x1b[0m\\x1b[0m',\n",
       " '      \\x1b[31m-\\x1b[0m\\x1b[0m network_rule_bypass_option    = \"AzureServices\" \\x1b[90m-> null\\x1b[0m\\x1b[0m',\n",
       " '      \\x1b[31m-\\x1b[0m\\x1b[0m network_rule_set              = [] \\x1b[90m-> null\\x1b[0m\\x1b[0m',\n",
       " '      \\x1b[31m-\\x1b[0m\\x1b[0m public_network_access_enabled = true \\x1b[90m-> null\\x1b[0m\\x1b[0m',\n",
       " '      \\x1b[31m-\\x1b[0m\\x1b[0m quarantine_policy_enabled     = false \\x1b[90m-> null\\x1b[0m\\x1b[0m',\n",
       " '      \\x1b[31m-\\x1b[0m\\x1b[0m resource_group_name           = \"tsfn14g00\" \\x1b[90m-> null\\x1b[0m\\x1b[0m',\n",
       " '      \\x1b[31m-\\x1b[0m\\x1b[0m retention_policy              = [',\n",
       " '          \\x1b[31m-\\x1b[0m\\x1b[0m {',\n",
       " '              \\x1b[31m-\\x1b[0m\\x1b[0m days    = 7',\n",
       " '              \\x1b[31m-\\x1b[0m\\x1b[0m enabled = false',\n",
       " '            },',\n",
       " '        ] \\x1b[90m-> null\\x1b[0m\\x1b[0m',\n",
       " '      \\x1b[31m-\\x1b[0m\\x1b[0m sku                           = \"Basic\" \\x1b[90m-> null\\x1b[0m\\x1b[0m',\n",
       " '      \\x1b[31m-\\x1b[0m\\x1b[0m tags                          = {} \\x1b[90m-> null\\x1b[0m\\x1b[0m',\n",
       " '      \\x1b[31m-\\x1b[0m\\x1b[0m trust_policy                  = [',\n",
       " '          \\x1b[31m-\\x1b[0m\\x1b[0m {',\n",
       " '              \\x1b[31m-\\x1b[0m\\x1b[0m enabled = false',\n",
       " '            },',\n",
       " '        ] \\x1b[90m-> null\\x1b[0m\\x1b[0m',\n",
       " '      \\x1b[31m-\\x1b[0m\\x1b[0m zone_redundancy_enabled       = false \\x1b[90m-> null\\x1b[0m\\x1b[0m',\n",
       " '    }',\n",
       " '',\n",
       " '\\x1b[1m  # azurerm_kubernetes_cluster.main\\x1b[0m will be \\x1b[1m\\x1b[31mdestroyed\\x1b[0m',\n",
       " '\\x1b[0m  \\x1b[31m-\\x1b[0m\\x1b[0m resource \"azurerm_kubernetes_cluster\" \"main\" {',\n",
       " '      \\x1b[31m-\\x1b[0m\\x1b[0m api_server_authorized_ip_ranges     = [] \\x1b[90m-> null\\x1b[0m\\x1b[0m',\n",
       " '      \\x1b[31m-\\x1b[0m\\x1b[0m custom_ca_trust_certificates_base64 = [] \\x1b[90m-> null\\x1b[0m\\x1b[0m',\n",
       " '      \\x1b[31m-\\x1b[0m\\x1b[0m dns_prefix                          = \"tsfn14g00\" \\x1b[90m-> null\\x1b[0m\\x1b[0m',\n",
       " '      \\x1b[31m-\\x1b[0m\\x1b[0m enable_pod_security_policy          = false \\x1b[90m-> null\\x1b[0m\\x1b[0m',\n",
       " '      \\x1b[31m-\\x1b[0m\\x1b[0m fqdn                                = \"tsfn14g00-ddvzjt83.hcp.westeurope.azmk8s.io\" \\x1b[90m-> null\\x1b[0m\\x1b[0m',\n",
       " '      \\x1b[31m-\\x1b[0m\\x1b[0m id                                  = \"/subscriptions/dc438970-aa32-41b3-8fe2-f587309a0208/resourceGroups/tsfn14g00/providers/Microsoft.ContainerService/managedClusters/tsfn14g00\" \\x1b[90m-> null\\x1b[0m\\x1b[0m',\n",
       " '      \\x1b[31m-\\x1b[0m\\x1b[0m image_cleaner_enabled               = false \\x1b[90m-> null\\x1b[0m\\x1b[0m',\n",
       " '      \\x1b[31m-\\x1b[0m\\x1b[0m image_cleaner_interval_hours        = 48 \\x1b[90m-> null\\x1b[0m\\x1b[0m',\n",
       " '      \\x1b[31m-\\x1b[0m\\x1b[0m kube_admin_config                   = (sensitive value) \\x1b[90m-> null\\x1b[0m\\x1b[0m',\n",
       " '      \\x1b[31m-\\x1b[0m\\x1b[0m kube_config                         = (sensitive value) \\x1b[90m-> null\\x1b[0m\\x1b[0m',\n",
       " '      \\x1b[31m-\\x1b[0m\\x1b[0m kube_config_raw                     = (sensitive value) \\x1b[90m-> null\\x1b[0m\\x1b[0m',\n",
       " '      \\x1b[31m-\\x1b[0m\\x1b[0m kubernetes_version                  = \"1.27.7\" \\x1b[90m-> null\\x1b[0m\\x1b[0m',\n",
       " '      \\x1b[31m-\\x1b[0m\\x1b[0m local_account_disabled              = false \\x1b[90m-> null\\x1b[0m\\x1b[0m',\n",
       " '      \\x1b[31m-\\x1b[0m\\x1b[0m location                            = \"westeurope\" \\x1b[90m-> null\\x1b[0m\\x1b[0m',\n",
       " '      \\x1b[31m-\\x1b[0m\\x1b[0m name                                = \"tsfn14g00\" \\x1b[90m-> null\\x1b[0m\\x1b[0m',\n",
       " '      \\x1b[31m-\\x1b[0m\\x1b[0m node_resource_group                 = \"MC_tsfn14g00_tsfn14g00_westeurope\" \\x1b[90m-> null\\x1b[0m\\x1b[0m',\n",
       " '      \\x1b[31m-\\x1b[0m\\x1b[0m node_resource_group_id              = \"/subscriptions/dc438970-aa32-41b3-8fe2-f587309a0208/resourceGroups/MC_tsfn14g00_tsfn14g00_westeurope\" \\x1b[90m-> null\\x1b[0m\\x1b[0m',\n",
       " '      \\x1b[31m-\\x1b[0m\\x1b[0m oidc_issuer_enabled                 = false \\x1b[90m-> null\\x1b[0m\\x1b[0m',\n",
       " '      \\x1b[31m-\\x1b[0m\\x1b[0m portal_fqdn                         = \"tsfn14g00-ddvzjt83.portal.hcp.westeurope.azmk8s.io\" \\x1b[90m-> null\\x1b[0m\\x1b[0m',\n",
       " '      \\x1b[31m-\\x1b[0m\\x1b[0m private_cluster_enabled             = false \\x1b[90m-> null\\x1b[0m\\x1b[0m',\n",
       " '      \\x1b[31m-\\x1b[0m\\x1b[0m private_cluster_public_fqdn_enabled = false \\x1b[90m-> null\\x1b[0m\\x1b[0m',\n",
       " '      \\x1b[31m-\\x1b[0m\\x1b[0m public_network_access_enabled       = true \\x1b[90m-> null\\x1b[0m\\x1b[0m',\n",
       " '      \\x1b[31m-\\x1b[0m\\x1b[0m resource_group_name                 = \"tsfn14g00\" \\x1b[90m-> null\\x1b[0m\\x1b[0m',\n",
       " '      \\x1b[31m-\\x1b[0m\\x1b[0m role_based_access_control_enabled   = true \\x1b[90m-> null\\x1b[0m\\x1b[0m',\n",
       " '      \\x1b[31m-\\x1b[0m\\x1b[0m run_command_enabled                 = true \\x1b[90m-> null\\x1b[0m\\x1b[0m',\n",
       " '      \\x1b[31m-\\x1b[0m\\x1b[0m sku_tier                            = \"Free\" \\x1b[90m-> null\\x1b[0m\\x1b[0m',\n",
       " '      \\x1b[31m-\\x1b[0m\\x1b[0m support_plan                        = \"KubernetesOfficial\" \\x1b[90m-> null\\x1b[0m\\x1b[0m',\n",
       " '      \\x1b[31m-\\x1b[0m\\x1b[0m tags                                = {} \\x1b[90m-> null\\x1b[0m\\x1b[0m',\n",
       " '      \\x1b[31m-\\x1b[0m\\x1b[0m workload_identity_enabled           = false \\x1b[90m-> null\\x1b[0m\\x1b[0m',\n",
       " '',\n",
       " '      \\x1b[31m-\\x1b[0m\\x1b[0m default_node_pool {',\n",
       " '          \\x1b[31m-\\x1b[0m\\x1b[0m custom_ca_trust_enabled      = false \\x1b[90m-> null\\x1b[0m\\x1b[0m',\n",
       " '          \\x1b[31m-\\x1b[0m\\x1b[0m enable_auto_scaling          = false \\x1b[90m-> null\\x1b[0m\\x1b[0m',\n",
       " '          \\x1b[31m-\\x1b[0m\\x1b[0m enable_host_encryption       = false \\x1b[90m-> null\\x1b[0m\\x1b[0m',\n",
       " '          \\x1b[31m-\\x1b[0m\\x1b[0m enable_node_public_ip        = false \\x1b[90m-> null\\x1b[0m\\x1b[0m',\n",
       " '          \\x1b[31m-\\x1b[0m\\x1b[0m fips_enabled                 = false \\x1b[90m-> null\\x1b[0m\\x1b[0m',\n",
       " '          \\x1b[31m-\\x1b[0m\\x1b[0m kubelet_disk_type            = \"OS\" \\x1b[90m-> null\\x1b[0m\\x1b[0m',\n",
       " '          \\x1b[31m-\\x1b[0m\\x1b[0m max_count                    = 0 \\x1b[90m-> null\\x1b[0m\\x1b[0m',\n",
       " '          \\x1b[31m-\\x1b[0m\\x1b[0m max_pods                     = 110 \\x1b[90m-> null\\x1b[0m\\x1b[0m',\n",
       " '          \\x1b[31m-\\x1b[0m\\x1b[0m min_count                    = 0 \\x1b[90m-> null\\x1b[0m\\x1b[0m',\n",
       " '          \\x1b[31m-\\x1b[0m\\x1b[0m name                         = \"default\" \\x1b[90m-> null\\x1b[0m\\x1b[0m',\n",
       " '          \\x1b[31m-\\x1b[0m\\x1b[0m node_count                   = 2 \\x1b[90m-> null\\x1b[0m\\x1b[0m',\n",
       " '          \\x1b[31m-\\x1b[0m\\x1b[0m node_labels                  = {} \\x1b[90m-> null\\x1b[0m\\x1b[0m',\n",
       " '          \\x1b[31m-\\x1b[0m\\x1b[0m node_taints                  = [] \\x1b[90m-> null\\x1b[0m\\x1b[0m',\n",
       " '          \\x1b[31m-\\x1b[0m\\x1b[0m only_critical_addons_enabled = false \\x1b[90m-> null\\x1b[0m\\x1b[0m',\n",
       " '          \\x1b[31m-\\x1b[0m\\x1b[0m orchestrator_version         = \"1.27.7\" \\x1b[90m-> null\\x1b[0m\\x1b[0m',\n",
       " '          \\x1b[31m-\\x1b[0m\\x1b[0m os_disk_size_gb              = 128 \\x1b[90m-> null\\x1b[0m\\x1b[0m',\n",
       " '          \\x1b[31m-\\x1b[0m\\x1b[0m os_disk_type                 = \"Managed\" \\x1b[90m-> null\\x1b[0m\\x1b[0m',\n",
       " '          \\x1b[31m-\\x1b[0m\\x1b[0m os_sku                       = \"Ubuntu\" \\x1b[90m-> null\\x1b[0m\\x1b[0m',\n",
       " '          \\x1b[31m-\\x1b[0m\\x1b[0m scale_down_mode              = \"Delete\" \\x1b[90m-> null\\x1b[0m\\x1b[0m',\n",
       " '          \\x1b[31m-\\x1b[0m\\x1b[0m tags                         = {} \\x1b[90m-> null\\x1b[0m\\x1b[0m',\n",
       " '          \\x1b[31m-\\x1b[0m\\x1b[0m type                         = \"VirtualMachineScaleSets\" \\x1b[90m-> null\\x1b[0m\\x1b[0m',\n",
       " '          \\x1b[31m-\\x1b[0m\\x1b[0m ultra_ssd_enabled            = false \\x1b[90m-> null\\x1b[0m\\x1b[0m',\n",
       " '          \\x1b[31m-\\x1b[0m\\x1b[0m vm_size                      = \"Standard_B2s\" \\x1b[90m-> null\\x1b[0m\\x1b[0m',\n",
       " '          \\x1b[31m-\\x1b[0m\\x1b[0m zones                        = [] \\x1b[90m-> null\\x1b[0m\\x1b[0m',\n",
       " '        }',\n",
       " '',\n",
       " '      \\x1b[31m-\\x1b[0m\\x1b[0m identity {',\n",
       " '          \\x1b[31m-\\x1b[0m\\x1b[0m identity_ids = [] \\x1b[90m-> null\\x1b[0m\\x1b[0m',\n",
       " '          \\x1b[31m-\\x1b[0m\\x1b[0m principal_id = \"85db938a-f1bc-4932-b032-901106eab5f0\" \\x1b[90m-> null\\x1b[0m\\x1b[0m',\n",
       " '          \\x1b[31m-\\x1b[0m\\x1b[0m tenant_id    = \"7564bc8f-3738-4b4d-bd57-5a02ca6215fb\" \\x1b[90m-> null\\x1b[0m\\x1b[0m',\n",
       " '          \\x1b[31m-\\x1b[0m\\x1b[0m type         = \"SystemAssigned\" \\x1b[90m-> null\\x1b[0m\\x1b[0m',\n",
       " '        }',\n",
       " '',\n",
       " '      \\x1b[31m-\\x1b[0m\\x1b[0m kubelet_identity {',\n",
       " '          \\x1b[31m-\\x1b[0m\\x1b[0m client_id                 = \"6a0f2b30-d938-4e05-a25c-1ad2be9b6c43\" \\x1b[90m-> null\\x1b[0m\\x1b[0m',\n",
       " '          \\x1b[31m-\\x1b[0m\\x1b[0m object_id                 = \"ade67a00-71ab-4020-8db7-4932f328359c\" \\x1b[90m-> null\\x1b[0m\\x1b[0m',\n",
       " '          \\x1b[31m-\\x1b[0m\\x1b[0m user_assigned_identity_id = \"/subscriptions/dc438970-aa32-41b3-8fe2-f587309a0208/resourceGroups/MC_tsfn14g00_tsfn14g00_westeurope/providers/Microsoft.ManagedIdentity/userAssignedIdentities/tsfn14g00-agentpool\" \\x1b[90m-> null\\x1b[0m\\x1b[0m',\n",
       " '        }',\n",
       " '',\n",
       " '      \\x1b[31m-\\x1b[0m\\x1b[0m network_profile {',\n",
       " '          \\x1b[31m-\\x1b[0m\\x1b[0m dns_service_ip    = \"10.0.0.10\" \\x1b[90m-> null\\x1b[0m\\x1b[0m',\n",
       " '          \\x1b[31m-\\x1b[0m\\x1b[0m ip_versions       = [',\n",
       " '              \\x1b[31m-\\x1b[0m\\x1b[0m \"IPv4\",',\n",
       " '            ] \\x1b[90m-> null\\x1b[0m\\x1b[0m',\n",
       " '          \\x1b[31m-\\x1b[0m\\x1b[0m load_balancer_sku = \"standard\" \\x1b[90m-> null\\x1b[0m\\x1b[0m',\n",
       " '          \\x1b[31m-\\x1b[0m\\x1b[0m network_plugin    = \"kubenet\" \\x1b[90m-> null\\x1b[0m\\x1b[0m',\n",
       " '          \\x1b[31m-\\x1b[0m\\x1b[0m outbound_type     = \"loadBalancer\" \\x1b[90m-> null\\x1b[0m\\x1b[0m',\n",
       " '          \\x1b[31m-\\x1b[0m\\x1b[0m pod_cidr          = \"10.244.0.0/16\" \\x1b[90m-> null\\x1b[0m\\x1b[0m',\n",
       " '          \\x1b[31m-\\x1b[0m\\x1b[0m pod_cidrs         = [',\n",
       " '              \\x1b[31m-\\x1b[0m\\x1b[0m \"10.244.0.0/16\",',\n",
       " '            ] \\x1b[90m-> null\\x1b[0m\\x1b[0m',\n",
       " '          \\x1b[31m-\\x1b[0m\\x1b[0m service_cidr      = \"10.0.0.0/16\" \\x1b[90m-> null\\x1b[0m\\x1b[0m',\n",
       " '          \\x1b[31m-\\x1b[0m\\x1b[0m service_cidrs     = [',\n",
       " '              \\x1b[31m-\\x1b[0m\\x1b[0m \"10.0.0.0/16\",',\n",
       " '            ] \\x1b[90m-> null\\x1b[0m\\x1b[0m',\n",
       " '',\n",
       " '          \\x1b[31m-\\x1b[0m\\x1b[0m load_balancer_profile {',\n",
       " '              \\x1b[31m-\\x1b[0m\\x1b[0m effective_outbound_ips      = [',\n",
       " '                  \\x1b[31m-\\x1b[0m\\x1b[0m \"/subscriptions/dc438970-aa32-41b3-8fe2-f587309a0208/resourceGroups/MC_tsfn14g00_tsfn14g00_westeurope/providers/Microsoft.Network/publicIPAddresses/e1112c50-e143-46b5-99d6-faca90239c1e\",',\n",
       " '                ] \\x1b[90m-> null\\x1b[0m\\x1b[0m',\n",
       " '              \\x1b[31m-\\x1b[0m\\x1b[0m idle_timeout_in_minutes     = 0 \\x1b[90m-> null\\x1b[0m\\x1b[0m',\n",
       " '              \\x1b[31m-\\x1b[0m\\x1b[0m managed_outbound_ip_count   = 1 \\x1b[90m-> null\\x1b[0m\\x1b[0m',\n",
       " '              \\x1b[31m-\\x1b[0m\\x1b[0m managed_outbound_ipv6_count = 0 \\x1b[90m-> null\\x1b[0m\\x1b[0m',\n",
       " '              \\x1b[31m-\\x1b[0m\\x1b[0m outbound_ip_address_ids     = [] \\x1b[90m-> null\\x1b[0m\\x1b[0m',\n",
       " '              \\x1b[31m-\\x1b[0m\\x1b[0m outbound_ip_prefix_ids      = [] \\x1b[90m-> null\\x1b[0m\\x1b[0m',\n",
       " '              \\x1b[31m-\\x1b[0m\\x1b[0m outbound_ports_allocated    = 0 \\x1b[90m-> null\\x1b[0m\\x1b[0m',\n",
       " '            }',\n",
       " '        }',\n",
       " '    }',\n",
       " '',\n",
       " '\\x1b[1m  # azurerm_network_watcher.networkwatcher\\x1b[0m will be \\x1b[1m\\x1b[31mdestroyed\\x1b[0m',\n",
       " '\\x1b[0m  \\x1b[31m-\\x1b[0m\\x1b[0m resource \"azurerm_network_watcher\" \"networkwatcher\" {',\n",
       " '      \\x1b[31m-\\x1b[0m\\x1b[0m id                  = \"/subscriptions/dc438970-aa32-41b3-8fe2-f587309a0208/resourceGroups/NetworkWatcherRG/providers/Microsoft.Network/networkWatchers/NetworkWatcher_westeurope\" \\x1b[90m-> null\\x1b[0m\\x1b[0m',\n",
       " '      \\x1b[31m-\\x1b[0m\\x1b[0m location            = \"westeurope\" \\x1b[90m-> null\\x1b[0m\\x1b[0m',\n",
       " '      \\x1b[31m-\\x1b[0m\\x1b[0m name                = \"NetworkWatcher_westeurope\" \\x1b[90m-> null\\x1b[0m\\x1b[0m',\n",
       " '      \\x1b[31m-\\x1b[0m\\x1b[0m resource_group_name = \"NetworkWatcherRG\" \\x1b[90m-> null\\x1b[0m\\x1b[0m',\n",
       " '      \\x1b[31m-\\x1b[0m\\x1b[0m tags                = {} \\x1b[90m-> null\\x1b[0m\\x1b[0m',\n",
       " '    }',\n",
       " '',\n",
       " '\\x1b[1m  # azurerm_resource_group.main\\x1b[0m will be \\x1b[1m\\x1b[31mdestroyed\\x1b[0m',\n",
       " '\\x1b[0m  \\x1b[31m-\\x1b[0m\\x1b[0m resource \"azurerm_resource_group\" \"main\" {',\n",
       " '      \\x1b[31m-\\x1b[0m\\x1b[0m id       = \"/subscriptions/dc438970-aa32-41b3-8fe2-f587309a0208/resourceGroups/tsfn14g00\" \\x1b[90m-> null\\x1b[0m\\x1b[0m',\n",
       " '      \\x1b[31m-\\x1b[0m\\x1b[0m location = \"westeurope\" \\x1b[90m-> null\\x1b[0m\\x1b[0m',\n",
       " '      \\x1b[31m-\\x1b[0m\\x1b[0m name     = \"tsfn14g00\" \\x1b[90m-> null\\x1b[0m\\x1b[0m',\n",
       " '      \\x1b[31m-\\x1b[0m\\x1b[0m tags     = {} \\x1b[90m-> null\\x1b[0m\\x1b[0m',\n",
       " '    }',\n",
       " '',\n",
       " '\\x1b[1m  # azurerm_resource_group.networkwatcher\\x1b[0m will be \\x1b[1m\\x1b[31mdestroyed\\x1b[0m',\n",
       " '\\x1b[0m  \\x1b[31m-\\x1b[0m\\x1b[0m resource \"azurerm_resource_group\" \"networkwatcher\" {',\n",
       " '      \\x1b[31m-\\x1b[0m\\x1b[0m id       = \"/subscriptions/dc438970-aa32-41b3-8fe2-f587309a0208/resourceGroups/NetworkWatcherRG\" \\x1b[90m-> null\\x1b[0m\\x1b[0m',\n",
       " '      \\x1b[31m-\\x1b[0m\\x1b[0m location = \"westeurope\" \\x1b[90m-> null\\x1b[0m\\x1b[0m',\n",
       " '      \\x1b[31m-\\x1b[0m\\x1b[0m name     = \"NetworkWatcherRG\" \\x1b[90m-> null\\x1b[0m\\x1b[0m',\n",
       " '      \\x1b[31m-\\x1b[0m\\x1b[0m tags     = {} \\x1b[90m-> null\\x1b[0m\\x1b[0m',\n",
       " '    }',\n",
       " '',\n",
       " '\\x1b[1m  # azurerm_role_assignment.main\\x1b[0m will be \\x1b[1m\\x1b[31mdestroyed\\x1b[0m',\n",
       " '\\x1b[0m  \\x1b[31m-\\x1b[0m\\x1b[0m resource \"azurerm_role_assignment\" \"main\" {',\n",
       " '      \\x1b[31m-\\x1b[0m\\x1b[0m id                               = \"/subscriptions/dc438970-aa32-41b3-8fe2-f587309a0208/resourceGroups/tsfn14g00/providers/Microsoft.ContainerRegistry/registries/tsfn14g00/providers/Microsoft.Authorization/roleAssignments/fbc0c239-a012-7ccc-a456-c8be24a30156\" \\x1b[90m-> null\\x1b[0m\\x1b[0m',\n",
       " '      \\x1b[31m-\\x1b[0m\\x1b[0m name                             = \"fbc0c239-a012-7ccc-a456-c8be24a30156\" \\x1b[90m-> null\\x1b[0m\\x1b[0m',\n",
       " '      \\x1b[31m-\\x1b[0m\\x1b[0m principal_id                     = \"ade67a00-71ab-4020-8db7-4932f328359c\" \\x1b[90m-> null\\x1b[0m\\x1b[0m',\n",
       " '      \\x1b[31m-\\x1b[0m\\x1b[0m principal_type                   = \"ServicePrincipal\" \\x1b[90m-> null\\x1b[0m\\x1b[0m',\n",
       " '      \\x1b[31m-\\x1b[0m\\x1b[0m role_definition_id               = \"/subscriptions/dc438970-aa32-41b3-8fe2-f587309a0208/providers/Microsoft.Authorization/roleDefinitions/7f951dda-4ed3-4680-a7ca-43fe172d538d\" \\x1b[90m-> null\\x1b[0m\\x1b[0m',\n",
       " '      \\x1b[31m-\\x1b[0m\\x1b[0m role_definition_name             = \"AcrPull\" \\x1b[90m-> null\\x1b[0m\\x1b[0m',\n",
       " '      \\x1b[31m-\\x1b[0m\\x1b[0m scope                            = \"/subscriptions/dc438970-aa32-41b3-8fe2-f587309a0208/resourceGroups/tsfn14g00/providers/Microsoft.ContainerRegistry/registries/tsfn14g00\" \\x1b[90m-> null\\x1b[0m\\x1b[0m',\n",
       " '      \\x1b[31m-\\x1b[0m\\x1b[0m skip_service_principal_aad_check = true \\x1b[90m-> null\\x1b[0m\\x1b[0m',\n",
       " '    }',\n",
       " '',\n",
       " '\\x1b[1m  # azurerm_storage_account.main\\x1b[0m will be \\x1b[1m\\x1b[31mdestroyed\\x1b[0m',\n",
       " '\\x1b[0m  \\x1b[31m-\\x1b[0m\\x1b[0m resource \"azurerm_storage_account\" \"main\" {',\n",
       " '      \\x1b[31m-\\x1b[0m\\x1b[0m access_tier                       = \"Hot\" \\x1b[90m-> null\\x1b[0m\\x1b[0m',\n",
       " '      \\x1b[31m-\\x1b[0m\\x1b[0m account_kind                      = \"StorageV2\" \\x1b[90m-> null\\x1b[0m\\x1b[0m',\n",
       " '      \\x1b[31m-\\x1b[0m\\x1b[0m account_replication_type          = \"LRS\" \\x1b[90m-> null\\x1b[0m\\x1b[0m',\n",
       " '      \\x1b[31m-\\x1b[0m\\x1b[0m account_tier                      = \"Standard\" \\x1b[90m-> null\\x1b[0m\\x1b[0m',\n",
       " '      \\x1b[31m-\\x1b[0m\\x1b[0m allow_nested_items_to_be_public   = true \\x1b[90m-> null\\x1b[0m\\x1b[0m',\n",
       " '      \\x1b[31m-\\x1b[0m\\x1b[0m cross_tenant_replication_enabled  = true \\x1b[90m-> null\\x1b[0m\\x1b[0m',\n",
       " '      \\x1b[31m-\\x1b[0m\\x1b[0m default_to_oauth_authentication   = false \\x1b[90m-> null\\x1b[0m\\x1b[0m',\n",
       " '      \\x1b[31m-\\x1b[0m\\x1b[0m enable_https_traffic_only         = true \\x1b[90m-> null\\x1b[0m\\x1b[0m',\n",
       " '      \\x1b[31m-\\x1b[0m\\x1b[0m id                                = \"/subscriptions/dc438970-aa32-41b3-8fe2-f587309a0208/resourceGroups/tsfn14g00/providers/Microsoft.Storage/storageAccounts/tsfn14g00\" \\x1b[90m-> null\\x1b[0m\\x1b[0m',\n",
       " '      \\x1b[31m-\\x1b[0m\\x1b[0m infrastructure_encryption_enabled = false \\x1b[90m-> null\\x1b[0m\\x1b[0m',\n",
       " '      \\x1b[31m-\\x1b[0m\\x1b[0m is_hns_enabled                    = false \\x1b[90m-> null\\x1b[0m\\x1b[0m',\n",
       " '      \\x1b[31m-\\x1b[0m\\x1b[0m location                          = \"westeurope\" \\x1b[90m-> null\\x1b[0m\\x1b[0m',\n",
       " '      \\x1b[31m-\\x1b[0m\\x1b[0m min_tls_version                   = \"TLS1_2\" \\x1b[90m-> null\\x1b[0m\\x1b[0m',\n",
       " '      \\x1b[31m-\\x1b[0m\\x1b[0m name                              = \"tsfn14g00\" \\x1b[90m-> null\\x1b[0m\\x1b[0m',\n",
       " '      \\x1b[31m-\\x1b[0m\\x1b[0m nfsv3_enabled                     = false \\x1b[90m-> null\\x1b[0m\\x1b[0m',\n",
       " '      \\x1b[31m-\\x1b[0m\\x1b[0m primary_access_key                = (sensitive value) \\x1b[90m-> null\\x1b[0m\\x1b[0m',\n",
       " '      \\x1b[31m-\\x1b[0m\\x1b[0m primary_blob_connection_string    = (sensitive value) \\x1b[90m-> null\\x1b[0m\\x1b[0m',\n",
       " '      \\x1b[31m-\\x1b[0m\\x1b[0m primary_blob_endpoint             = \"https://tsfn14g00.blob.core.windows.net/\" \\x1b[90m-> null\\x1b[0m\\x1b[0m',\n",
       " '      \\x1b[31m-\\x1b[0m\\x1b[0m primary_blob_host                 = \"tsfn14g00.blob.core.windows.net\" \\x1b[90m-> null\\x1b[0m\\x1b[0m',\n",
       " '      \\x1b[31m-\\x1b[0m\\x1b[0m primary_connection_string         = (sensitive value) \\x1b[90m-> null\\x1b[0m\\x1b[0m',\n",
       " '      \\x1b[31m-\\x1b[0m\\x1b[0m primary_dfs_endpoint              = \"https://tsfn14g00.dfs.core.windows.net/\" \\x1b[90m-> null\\x1b[0m\\x1b[0m',\n",
       " '      \\x1b[31m-\\x1b[0m\\x1b[0m primary_dfs_host                  = \"tsfn14g00.dfs.core.windows.net\" \\x1b[90m-> null\\x1b[0m\\x1b[0m',\n",
       " '      \\x1b[31m-\\x1b[0m\\x1b[0m primary_file_endpoint             = \"https://tsfn14g00.file.core.windows.net/\" \\x1b[90m-> null\\x1b[0m\\x1b[0m',\n",
       " '      \\x1b[31m-\\x1b[0m\\x1b[0m primary_file_host                 = \"tsfn14g00.file.core.windows.net\" \\x1b[90m-> null\\x1b[0m\\x1b[0m',\n",
       " '      \\x1b[31m-\\x1b[0m\\x1b[0m primary_location                  = \"westeurope\" \\x1b[90m-> null\\x1b[0m\\x1b[0m',\n",
       " '      \\x1b[31m-\\x1b[0m\\x1b[0m primary_queue_endpoint            = \"https://tsfn14g00.queue.core.windows.net/\" \\x1b[90m-> null\\x1b[0m\\x1b[0m',\n",
       " '      \\x1b[31m-\\x1b[0m\\x1b[0m primary_queue_host                = \"tsfn14g00.queue.core.windows.net\" \\x1b[90m-> null\\x1b[0m\\x1b[0m',\n",
       " '      \\x1b[31m-\\x1b[0m\\x1b[0m primary_table_endpoint            = \"https://tsfn14g00.table.core.windows.net/\" \\x1b[90m-> null\\x1b[0m\\x1b[0m',\n",
       " '      \\x1b[31m-\\x1b[0m\\x1b[0m primary_table_host                = \"tsfn14g00.table.core.windows.net\" \\x1b[90m-> null\\x1b[0m\\x1b[0m',\n",
       " '      \\x1b[31m-\\x1b[0m\\x1b[0m primary_web_endpoint              = \"https://tsfn14g00.z6.web.core.windows.net/\" \\x1b[90m-> null\\x1b[0m\\x1b[0m',\n",
       " '      \\x1b[31m-\\x1b[0m\\x1b[0m primary_web_host                  = \"tsfn14g00.z6.web.core.windows.net\" \\x1b[90m-> null\\x1b[0m\\x1b[0m',\n",
       " '      \\x1b[31m-\\x1b[0m\\x1b[0m public_network_access_enabled     = true \\x1b[90m-> null\\x1b[0m\\x1b[0m',\n",
       " '      \\x1b[31m-\\x1b[0m\\x1b[0m queue_encryption_key_type         = \"Service\" \\x1b[90m-> null\\x1b[0m\\x1b[0m',\n",
       " '      \\x1b[31m-\\x1b[0m\\x1b[0m resource_group_name               = \"tsfn14g00\" \\x1b[90m-> null\\x1b[0m\\x1b[0m',\n",
       " '      \\x1b[31m-\\x1b[0m\\x1b[0m secondary_access_key              = (sensitive value) \\x1b[90m-> null\\x1b[0m\\x1b[0m',\n",
       " '      \\x1b[31m-\\x1b[0m\\x1b[0m secondary_connection_string       = (sensitive value) \\x1b[90m-> null\\x1b[0m\\x1b[0m',\n",
       " '      \\x1b[31m-\\x1b[0m\\x1b[0m sftp_enabled                      = false \\x1b[90m-> null\\x1b[0m\\x1b[0m',\n",
       " '      \\x1b[31m-\\x1b[0m\\x1b[0m shared_access_key_enabled         = true \\x1b[90m-> null\\x1b[0m\\x1b[0m',\n",
       " '      \\x1b[31m-\\x1b[0m\\x1b[0m table_encryption_key_type         = \"Service\" \\x1b[90m-> null\\x1b[0m\\x1b[0m',\n",
       " '      \\x1b[31m-\\x1b[0m\\x1b[0m tags                              = {} \\x1b[90m-> null\\x1b[0m\\x1b[0m',\n",
       " '',\n",
       " '      \\x1b[31m-\\x1b[0m\\x1b[0m blob_properties {',\n",
       " '          \\x1b[31m-\\x1b[0m\\x1b[0m change_feed_enabled           = false \\x1b[90m-> null\\x1b[0m\\x1b[0m',\n",
       " '          \\x1b[31m-\\x1b[0m\\x1b[0m change_feed_retention_in_days = 0 \\x1b[90m-> null\\x1b[0m\\x1b[0m',\n",
       " '          \\x1b[31m-\\x1b[0m\\x1b[0m last_access_time_enabled      = false \\x1b[90m-> null\\x1b[0m\\x1b[0m',\n",
       " '          \\x1b[31m-\\x1b[0m\\x1b[0m versioning_enabled            = false \\x1b[90m-> null\\x1b[0m\\x1b[0m',\n",
       " '        }',\n",
       " '',\n",
       " '      \\x1b[31m-\\x1b[0m\\x1b[0m network_rules {',\n",
       " '          \\x1b[31m-\\x1b[0m\\x1b[0m bypass                     = [',\n",
       " '              \\x1b[31m-\\x1b[0m\\x1b[0m \"AzureServices\",',\n",
       " '            ] \\x1b[90m-> null\\x1b[0m\\x1b[0m',\n",
       " '          \\x1b[31m-\\x1b[0m\\x1b[0m default_action             = \"Allow\" \\x1b[90m-> null\\x1b[0m\\x1b[0m',\n",
       " '          \\x1b[31m-\\x1b[0m\\x1b[0m ip_rules                   = [] \\x1b[90m-> null\\x1b[0m\\x1b[0m',\n",
       " '          \\x1b[31m-\\x1b[0m\\x1b[0m virtual_network_subnet_ids = [] \\x1b[90m-> null\\x1b[0m\\x1b[0m',\n",
       " '        }',\n",
       " '',\n",
       " '      \\x1b[31m-\\x1b[0m\\x1b[0m queue_properties {',\n",
       " '          \\x1b[31m-\\x1b[0m\\x1b[0m hour_metrics {',\n",
       " '              \\x1b[31m-\\x1b[0m\\x1b[0m enabled               = true \\x1b[90m-> null\\x1b[0m\\x1b[0m',\n",
       " '              \\x1b[31m-\\x1b[0m\\x1b[0m include_apis          = true \\x1b[90m-> null\\x1b[0m\\x1b[0m',\n",
       " '              \\x1b[31m-\\x1b[0m\\x1b[0m retention_policy_days = 7 \\x1b[90m-> null\\x1b[0m\\x1b[0m',\n",
       " '              \\x1b[31m-\\x1b[0m\\x1b[0m version               = \"1.0\" \\x1b[90m-> null\\x1b[0m\\x1b[0m',\n",
       " '            }',\n",
       " '          \\x1b[31m-\\x1b[0m\\x1b[0m logging {',\n",
       " '              \\x1b[31m-\\x1b[0m\\x1b[0m delete                = false \\x1b[90m-> null\\x1b[0m\\x1b[0m',\n",
       " '              \\x1b[31m-\\x1b[0m\\x1b[0m read                  = false \\x1b[90m-> null\\x1b[0m\\x1b[0m',\n",
       " '              \\x1b[31m-\\x1b[0m\\x1b[0m retention_policy_days = 0 \\x1b[90m-> null\\x1b[0m\\x1b[0m',\n",
       " '              \\x1b[31m-\\x1b[0m\\x1b[0m version               = \"1.0\" \\x1b[90m-> null\\x1b[0m\\x1b[0m',\n",
       " '              \\x1b[31m-\\x1b[0m\\x1b[0m write                 = false \\x1b[90m-> null\\x1b[0m\\x1b[0m',\n",
       " '            }',\n",
       " '          \\x1b[31m-\\x1b[0m\\x1b[0m minute_metrics {',\n",
       " '              \\x1b[31m-\\x1b[0m\\x1b[0m enabled               = false \\x1b[90m-> null\\x1b[0m\\x1b[0m',\n",
       " '              \\x1b[31m-\\x1b[0m\\x1b[0m include_apis          = false \\x1b[90m-> null\\x1b[0m\\x1b[0m',\n",
       " '              \\x1b[31m-\\x1b[0m\\x1b[0m retention_policy_days = 0 \\x1b[90m-> null\\x1b[0m\\x1b[0m',\n",
       " '              \\x1b[31m-\\x1b[0m\\x1b[0m version               = \"1.0\" \\x1b[90m-> null\\x1b[0m\\x1b[0m',\n",
       " '            }',\n",
       " '        }',\n",
       " '',\n",
       " '      \\x1b[31m-\\x1b[0m\\x1b[0m share_properties {',\n",
       " '          \\x1b[31m-\\x1b[0m\\x1b[0m retention_policy {',\n",
       " '              \\x1b[31m-\\x1b[0m\\x1b[0m days = 7 \\x1b[90m-> null\\x1b[0m\\x1b[0m',\n",
       " '            }',\n",
       " '        }',\n",
       " '    }',\n",
       " '',\n",
       " '\\x1b[1m  # azurerm_storage_container.main\\x1b[0m will be \\x1b[1m\\x1b[31mdestroyed\\x1b[0m',\n",
       " '\\x1b[0m  \\x1b[31m-\\x1b[0m\\x1b[0m resource \"azurerm_storage_container\" \"main\" {',\n",
       " '      \\x1b[31m-\\x1b[0m\\x1b[0m container_access_type   = \"private\" \\x1b[90m-> null\\x1b[0m\\x1b[0m',\n",
       " '      \\x1b[31m-\\x1b[0m\\x1b[0m has_immutability_policy = false \\x1b[90m-> null\\x1b[0m\\x1b[0m',\n",
       " '      \\x1b[31m-\\x1b[0m\\x1b[0m has_legal_hold          = false \\x1b[90m-> null\\x1b[0m\\x1b[0m',\n",
       " '      \\x1b[31m-\\x1b[0m\\x1b[0m id                      = \"https://tsfn14g00.blob.core.windows.net/videos\" \\x1b[90m-> null\\x1b[0m\\x1b[0m',\n",
       " '      \\x1b[31m-\\x1b[0m\\x1b[0m metadata                = {} \\x1b[90m-> null\\x1b[0m\\x1b[0m',\n",
       " '      \\x1b[31m-\\x1b[0m\\x1b[0m name                    = \"videos\" \\x1b[90m-> null\\x1b[0m\\x1b[0m',\n",
       " '      \\x1b[31m-\\x1b[0m\\x1b[0m resource_manager_id     = \"/subscriptions/dc438970-aa32-41b3-8fe2-f587309a0208/resourceGroups/tsfn14g00/providers/Microsoft.Storage/storageAccounts/tsfn14g00/blobServices/default/containers/videos\" \\x1b[90m-> null\\x1b[0m\\x1b[0m',\n",
       " '      \\x1b[31m-\\x1b[0m\\x1b[0m storage_account_name    = \"tsfn14g00\" \\x1b[90m-> null\\x1b[0m\\x1b[0m',\n",
       " '    }',\n",
       " '',\n",
       " '\\x1b[1mPlan:\\x1b[0m 0 to add, 0 to change, 8 to destroy.',\n",
       " '\\x1b[0m',\n",
       " 'Changes to Outputs:',\n",
       " '  \\x1b[31m-\\x1b[0m\\x1b[0m app_name = \"tsfn14g00\" \\x1b[90m-> null\\x1b[0m\\x1b[0m',\n",
       " '\\x1b[0m\\x1b[1mazurerm_network_watcher.networkwatcher: Destroying... [id=/subscriptions/dc438970-aa32-41b3-8fe2-f587309a0208/resourceGroups/NetworkWatcherRG/providers/Microsoft.Network/networkWatchers/NetworkWatcher_westeurope]\\x1b[0m\\x1b[0m',\n",
       " '\\x1b[0m\\x1b[1mazurerm_role_assignment.main: Destroying... [id=/subscriptions/dc438970-aa32-41b3-8fe2-f587309a0208/resourceGroups/tsfn14g00/providers/Microsoft.ContainerRegistry/registries/tsfn14g00/providers/Microsoft.Authorization/roleAssignments/fbc0c239-a012-7ccc-a456-c8be24a30156]\\x1b[0m\\x1b[0m',\n",
       " '\\x1b[0m\\x1b[1mazurerm_storage_container.main: Destroying... [id=https://tsfn14g00.blob.core.windows.net/videos]\\x1b[0m\\x1b[0m',\n",
       " '\\x1b[0m\\x1b[1mazurerm_storage_container.main: Destruction complete after 1s\\x1b[0m',\n",
       " '\\x1b[0m\\x1b[1mazurerm_storage_account.main: Destroying... [id=/subscriptions/dc438970-aa32-41b3-8fe2-f587309a0208/resourceGroups/tsfn14g00/providers/Microsoft.Storage/storageAccounts/tsfn14g00]\\x1b[0m\\x1b[0m',\n",
       " '\\x1b[0m\\x1b[1mazurerm_storage_account.main: Destruction complete after 3s\\x1b[0m',\n",
       " '\\x1b[0m\\x1b[1mazurerm_role_assignment.main: Destruction complete after 5s\\x1b[0m',\n",
       " '\\x1b[0m\\x1b[1mazurerm_container_registry.main: Destroying... [id=/subscriptions/dc438970-aa32-41b3-8fe2-f587309a0208/resourceGroups/tsfn14g00/providers/Microsoft.ContainerRegistry/registries/tsfn14g00]\\x1b[0m\\x1b[0m',\n",
       " '\\x1b[0m\\x1b[1mazurerm_kubernetes_cluster.main: Destroying... [id=/subscriptions/dc438970-aa32-41b3-8fe2-f587309a0208/resourceGroups/tsfn14g00/providers/Microsoft.ContainerService/managedClusters/tsfn14g00]\\x1b[0m\\x1b[0m',\n",
       " '\\x1b[0m\\x1b[1mazurerm_network_watcher.networkwatcher: Still destroying... [id=/subscriptions/dc438970-aa32-41b3-8fe2-...workWatchers/NetworkWatcher_westeurope, 10s elapsed]\\x1b[0m\\x1b[0m',\n",
       " '\\x1b[0m\\x1b[1mazurerm_network_watcher.networkwatcher: Destruction complete after 11s\\x1b[0m',\n",
       " '\\x1b[0m\\x1b[1mazurerm_resource_group.networkwatcher: Destroying... [id=/subscriptions/dc438970-aa32-41b3-8fe2-f587309a0208/resourceGroups/NetworkWatcherRG]\\x1b[0m\\x1b[0m',\n",
       " '\\x1b[0m\\x1b[1mazurerm_container_registry.main: Still destroying... [id=/subscriptions/dc438970-aa32-41b3-8fe2-...ContainerRegistry/registries/tsfn14g00, 10s elapsed]\\x1b[0m\\x1b[0m',\n",
       " '\\x1b[0m\\x1b[1mazurerm_kubernetes_cluster.main: Still destroying... [id=/subscriptions/dc438970-aa32-41b3-8fe2-...ainerService/managedClusters/tsfn14g00, 10s elapsed]\\x1b[0m\\x1b[0m',\n",
       " '\\x1b[0m\\x1b[1mazurerm_container_registry.main: Destruction complete after 14s\\x1b[0m',\n",
       " '\\x1b[0m\\x1b[1mazurerm_resource_group.networkwatcher: Still destroying... [id=/subscriptions/dc438970-aa32-41b3-8fe2-...9a0208/resourceGroups/NetworkWatcherRG, 10s elapsed]\\x1b[0m\\x1b[0m',\n",
       " '\\x1b[0m\\x1b[1mazurerm_kubernetes_cluster.main: Still destroying... [id=/subscriptions/dc438970-aa32-41b3-8fe2-...ainerService/managedClusters/tsfn14g00, 20s elapsed]\\x1b[0m\\x1b[0m',\n",
       " '\\x1b[0m\\x1b[1mazurerm_resource_group.networkwatcher: Destruction complete after 16s\\x1b[0m',\n",
       " '\\x1b[0m\\x1b[1mazurerm_kubernetes_cluster.main: Still destroying... [id=/subscriptions/dc438970-aa32-41b3-8fe2-...ainerService/managedClusters/tsfn14g00, 30s elapsed]\\x1b[0m\\x1b[0m',\n",
       " '\\x1b[0m\\x1b[1mazurerm_kubernetes_cluster.main: Still destroying... [id=/subscriptions/dc438970-aa32-41b3-8fe2-...ainerService/managedClusters/tsfn14g00, 40s elapsed]\\x1b[0m\\x1b[0m',\n",
       " '\\x1b[0m\\x1b[1mazurerm_kubernetes_cluster.main: Still destroying... [id=/subscriptions/dc438970-aa32-41b3-8fe2-...ainerService/managedClusters/tsfn14g00, 50s elapsed]\\x1b[0m\\x1b[0m',\n",
       " '\\x1b[0m\\x1b[1mazurerm_kubernetes_cluster.main: Still destroying... [id=/subscriptions/dc438970-aa32-41b3-8fe2-...ainerService/managedClusters/tsfn14g00, 1m0s elapsed]\\x1b[0m\\x1b[0m',\n",
       " '\\x1b[0m\\x1b[1mazurerm_kubernetes_cluster.main: Still destroying... [id=/subscriptions/dc438970-aa32-41b3-8fe2-...ainerService/managedClusters/tsfn14g00, 1m10s elapsed]\\x1b[0m\\x1b[0m',\n",
       " '\\x1b[0m\\x1b[1mazurerm_kubernetes_cluster.main: Still destroying... [id=/subscriptions/dc438970-aa32-41b3-8fe2-...ainerService/managedClusters/tsfn14g00, 1m20s elapsed]\\x1b[0m\\x1b[0m',\n",
       " '\\x1b[0m\\x1b[1mazurerm_kubernetes_cluster.main: Still destroying... [id=/subscriptions/dc438970-aa32-41b3-8fe2-...ainerService/managedClusters/tsfn14g00, 1m30s elapsed]\\x1b[0m\\x1b[0m',\n",
       " '\\x1b[0m\\x1b[1mazurerm_kubernetes_cluster.main: Still destroying... [id=/subscriptions/dc438970-aa32-41b3-8fe2-...ainerService/managedClusters/tsfn14g00, 1m40s elapsed]\\x1b[0m\\x1b[0m',\n",
       " '\\x1b[0m\\x1b[1mazurerm_kubernetes_cluster.main: Still destroying... [id=/subscriptions/dc438970-aa32-41b3-8fe2-...ainerService/managedClusters/tsfn14g00, 1m50s elapsed]\\x1b[0m\\x1b[0m',\n",
       " '\\x1b[0m\\x1b[1mazurerm_kubernetes_cluster.main: Still destroying... [id=/subscriptions/dc438970-aa32-41b3-8fe2-...ainerService/managedClusters/tsfn14g00, 2m0s elapsed]\\x1b[0m\\x1b[0m',\n",
       " '\\x1b[0m\\x1b[1mazurerm_kubernetes_cluster.main: Still destroying... [id=/subscriptions/dc438970-aa32-41b3-8fe2-...ainerService/managedClusters/tsfn14g00, 2m10s elapsed]\\x1b[0m\\x1b[0m',\n",
       " '\\x1b[0m\\x1b[1mazurerm_kubernetes_cluster.main: Still destroying... [id=/subscriptions/dc438970-aa32-41b3-8fe2-...ainerService/managedClusters/tsfn14g00, 2m20s elapsed]\\x1b[0m\\x1b[0m',\n",
       " '\\x1b[0m\\x1b[1mazurerm_kubernetes_cluster.main: Still destroying... [id=/subscriptions/dc438970-aa32-41b3-8fe2-...ainerService/managedClusters/tsfn14g00, 2m30s elapsed]\\x1b[0m\\x1b[0m',\n",
       " '\\x1b[0m\\x1b[1mazurerm_kubernetes_cluster.main: Still destroying... [id=/subscriptions/dc438970-aa32-41b3-8fe2-...ainerService/managedClusters/tsfn14g00, 2m40s elapsed]\\x1b[0m\\x1b[0m',\n",
       " '\\x1b[0m\\x1b[1mazurerm_kubernetes_cluster.main: Still destroying... [id=/subscriptions/dc438970-aa32-41b3-8fe2-...ainerService/managedClusters/tsfn14g00, 2m50s elapsed]\\x1b[0m\\x1b[0m',\n",
       " '\\x1b[0m\\x1b[1mazurerm_kubernetes_cluster.main: Still destroying... [id=/subscriptions/dc438970-aa32-41b3-8fe2-...ainerService/managedClusters/tsfn14g00, 3m0s elapsed]\\x1b[0m\\x1b[0m',\n",
       " '\\x1b[0m\\x1b[1mazurerm_kubernetes_cluster.main: Still destroying... [id=/subscriptions/dc438970-aa32-41b3-8fe2-...ainerService/managedClusters/tsfn14g00, 3m10s elapsed]\\x1b[0m\\x1b[0m',\n",
       " '\\x1b[0m\\x1b[1mazurerm_kubernetes_cluster.main: Still destroying... [id=/subscriptions/dc438970-aa32-41b3-8fe2-...ainerService/managedClusters/tsfn14g00, 3m20s elapsed]\\x1b[0m\\x1b[0m',\n",
       " '\\x1b[0m\\x1b[1mazurerm_kubernetes_cluster.main: Still destroying... [id=/subscriptions/dc438970-aa32-41b3-8fe2-...ainerService/managedClusters/tsfn14g00, 3m30s elapsed]\\x1b[0m\\x1b[0m',\n",
       " '\\x1b[0m\\x1b[1mazurerm_kubernetes_cluster.main: Still destroying... [id=/subscriptions/dc438970-aa32-41b3-8fe2-...ainerService/managedClusters/tsfn14g00, 3m40s elapsed]\\x1b[0m\\x1b[0m',\n",
       " '\\x1b[0m\\x1b[1mazurerm_kubernetes_cluster.main: Still destroying... [id=/subscriptions/dc438970-aa32-41b3-8fe2-...ainerService/managedClusters/tsfn14g00, 3m50s elapsed]\\x1b[0m\\x1b[0m',\n",
       " '\\x1b[0m\\x1b[1mazurerm_kubernetes_cluster.main: Still destroying... [id=/subscriptions/dc438970-aa32-41b3-8fe2-...ainerService/managedClusters/tsfn14g00, 4m0s elapsed]\\x1b[0m\\x1b[0m',\n",
       " '\\x1b[0m\\x1b[1mazurerm_kubernetes_cluster.main: Destruction complete after 4m3s\\x1b[0m',\n",
       " '\\x1b[0m\\x1b[1mazurerm_resource_group.main: Destroying... [id=/subscriptions/dc438970-aa32-41b3-8fe2-f587309a0208/resourceGroups/tsfn14g00]\\x1b[0m\\x1b[0m',\n",
       " '\\x1b[0m\\x1b[1mazurerm_resource_group.main: Still destroying... [id=/subscriptions/dc438970-aa32-41b3-8fe2-f587309a0208/resourceGroups/tsfn14g00, 10s elapsed]\\x1b[0m\\x1b[0m',\n",
       " '\\x1b[0m\\x1b[1mazurerm_resource_group.main: Destruction complete after 16s\\x1b[0m',\n",
       " '\\x1b[0m\\x1b[1m\\x1b[32m',\n",
       " 'Destroy complete! Resources: 8 destroyed.',\n",
       " '\\x1b[0m']"
      ]
     },
     "execution_count": 23,
     "metadata": {},
     "output_type": "execute_result"
    }
   ],
   "source": [
    "%%system\n",
    "\n",
    "cd monorepo/terraform\n",
    "terraform destroy -auto-approve\n",
    "cd ../.."
   ]
  },
  {
   "cell_type": "markdown",
   "metadata": {},
   "source": [
    "## Delete GitHub Repository\n",
    "\n",
    "- Now we can delete the `monorepo` GitHub repository and the `monorepo` subfolder to clean things up.\n",
    "- **Note**: On WIndows, run the command `rmdir /s /q monorepo` instead of `rm -rf monorepo`."
   ]
  },
  {
   "cell_type": "code",
   "execution_count": 24,
   "metadata": {
    "vscode": {
     "languageId": "shellscript"
    }
   },
   "outputs": [
    {
     "data": {
      "text/plain": [
       "[]"
      ]
     },
     "execution_count": 24,
     "metadata": {},
     "output_type": "execute_result"
    }
   ],
   "source": [
    "%%system\n",
    "\n",
    "cd monorepo\n",
    "gh repo delete monorepo --yes\n",
    "cd ..\n",
    "\n",
    "rm -rf monorepo"
   ]
  },
  {
   "cell_type": "markdown",
   "metadata": {},
   "source": [
    "## List Azure Storage Accounts\n",
    "\n",
    "- We see the Azure Storage Account has been destroyed."
   ]
  },
  {
   "cell_type": "code",
   "execution_count": 25,
   "metadata": {
    "vscode": {
     "languageId": "shellscript"
    }
   },
   "outputs": [
    {
     "name": "stdout",
     "output_type": "stream",
     "text": [
      "\n"
     ]
    }
   ],
   "source": [
    "!az storage account list -o table"
   ]
  },
  {
   "cell_type": "markdown",
   "metadata": {},
   "source": [
    "## List Azure Container Registries\n",
    "\n",
    "- We see the Azure Container Registry has been destroyed."
   ]
  },
  {
   "cell_type": "code",
   "execution_count": 26,
   "metadata": {
    "vscode": {
     "languageId": "shellscript"
    }
   },
   "outputs": [
    {
     "name": "stdout",
     "output_type": "stream",
     "text": [
      "\n"
     ]
    }
   ],
   "source": [
    "!az acr list -o table"
   ]
  },
  {
   "cell_type": "markdown",
   "metadata": {},
   "source": [
    "## List Azure Kubernetes Services\n",
    "\n",
    "- We see the Azure Kubernetes Service has been destroyed."
   ]
  },
  {
   "cell_type": "code",
   "execution_count": 27,
   "metadata": {
    "vscode": {
     "languageId": "shellscript"
    }
   },
   "outputs": [
    {
     "name": "stdout",
     "output_type": "stream",
     "text": [
      "\n"
     ]
    }
   ],
   "source": [
    "!az aks list -o table"
   ]
  },
  {
   "cell_type": "markdown",
   "metadata": {},
   "source": [
    "## List Azure Resource Groups\n",
    "\n",
    "- We see the Azure Resource Groups have been destroyed."
   ]
  },
  {
   "cell_type": "code",
   "execution_count": 28,
   "metadata": {
    "vscode": {
     "languageId": "shellscript"
    }
   },
   "outputs": [
    {
     "name": "stdout",
     "output_type": "stream",
     "text": [
      "\n"
     ]
    }
   ],
   "source": [
    "!az group list -o table"
   ]
  },
  {
   "cell_type": "code",
   "execution_count": null,
   "metadata": {
    "vscode": {
     "languageId": "shellscript"
    }
   },
   "outputs": [],
   "source": []
  }
 ],
 "metadata": {
  "kernelspec": {
   "display_name": "Python 3",
   "language": "python",
   "name": "python3"
  },
  "language_info": {
   "codemirror_mode": {
    "name": "ipython",
    "version": 3
   },
   "file_extension": ".py",
   "mimetype": "text/x-python",
   "name": "python",
   "nbconvert_exporter": "python",
   "pygments_lexer": "ipython3",
   "version": "3.10.13"
  }
 },
 "nbformat": 4,
 "nbformat_minor": 2
}
